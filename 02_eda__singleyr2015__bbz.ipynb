{
 "cells": [
  {
   "cell_type": "markdown",
   "metadata": {},
   "source": [
    "# Exploratory Data Analysis -- Summarizing the Data's Main Characteristics with Visualizations  \n",
    "### *HMDA Data for 2015 -- Simple Random Sample of 25,000 Tuples*  \n",
    "--  \n",
    "This notebook explores the Home Mortgage Disclosure Act (HMDA) data for one year -- 2015.\n",
    "\n",
    "---  \n"
   ]
  },
  {
   "cell_type": "code",
   "execution_count": 2,
   "metadata": {},
   "outputs": [],
   "source": [
    "# Importing Libraries.\n",
    "\n",
    "import pandas as pd\n",
    "import numpy as np\n",
    "import matplotlib.pyplot as plt\n",
    "import seaborn as sns\n",
    "import math\n",
    "\n",
    "import os\n",
    "import psycopg2\n",
    "import pandas.io.sql as psql\n",
    "import sqlalchemy\n",
    "from sqlalchemy import create_engine\n",
    "\n",
    "from sklearn import preprocessing\n",
    "from sklearn.preprocessing import LabelEncoder\n",
    "from scipy import stats\n",
    "from pylab import*\n",
    "from matplotlib.ticker import LogLocator\n",
    "\n",
    "%matplotlib inline\n",
    "%config InlineBackend.figure_format = 'retina'"
   ]
  },
  {
   "cell_type": "code",
   "execution_count": 5,
   "metadata": {},
   "outputs": [],
   "source": [
    "# Connecting to AWS PostgreSQL RDS.\n",
    "\n",
    "engine_hmda_2017 = psycopg2.connect(\n",
    "    database=\"paddle_loan_canoe\",\n",
    "    user=\"reporting_user\",\n",
    "    password=\"team_loan_canoe2019\",\n",
    "    host=\"aws-pgsql-loan-canoe.cr3nrpkvgwaj.us-east-2.rds.amazonaws.com\",\n",
    "    port='5432'\n",
    ")"
   ]
  },
  {
   "cell_type": "code",
   "execution_count": null,
   "metadata": {},
   "outputs": [],
   "source": [
    "#  Reading the HMDA 2017 dataset; join population and education datasets appropriately for 2017 \n",
    "#  for the first 50,000 rows -- as a dataframe using pandas: df.\n",
    "\n",
    "df = pd.read_sql_query ('''SELECT * From ''', cnx)\n",
    "\n",
    "# Using pandas to view the first 5 rows (NB: why does it start at 0?).\n",
    "df.head(5)"
   ]
  }
 ],
 "metadata": {
  "kernelspec": {
   "display_name": "Python 3",
   "language": "python",
   "name": "python3"
  },
  "language_info": {
   "codemirror_mode": {
    "name": "ipython",
    "version": 3
   },
   "file_extension": ".py",
   "mimetype": "text/x-python",
   "name": "python",
   "nbconvert_exporter": "python",
   "pygments_lexer": "ipython3",
   "version": "3.7.3"
  }
 },
 "nbformat": 4,
 "nbformat_minor": 2
}
