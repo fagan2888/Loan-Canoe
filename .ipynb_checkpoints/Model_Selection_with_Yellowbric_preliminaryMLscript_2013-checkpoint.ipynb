{
 "cells": [
  {
   "cell_type": "markdown",
   "metadata": {},
   "source": [
    "### Model Selection\n",
    "In order to select the best model for our data, I am going to look at scores for a variety of scikit-learn models and compare them using visual tools from Yellowbrick. "
   ]
  },
  {
   "cell_type": "markdown",
   "metadata": {},
   "source": [
    "### Imports"
   ]
  },
  {
   "cell_type": "code",
   "execution_count": 1,
   "metadata": {},
   "outputs": [],
   "source": [
    "%matplotlib inline\n",
    "import warnings\n",
    "warnings.filterwarnings('ignore')\n",
    "import os\n",
    "import pandas as pd\n",
    "\n",
    "from sklearn.metrics import f1_score\n",
    "from sklearn.pipeline import Pipeline\n",
    "from sklearn.svm import LinearSVC, NuSVC, SVC\n",
    "from sklearn.neighbors import KNeighborsClassifier\n",
    "from sklearn.preprocessing import OneHotEncoder, LabelEncoder\n",
    "from sklearn.naive_bayes import GaussianNB, BernoulliNB, MultinomialNB\n",
    "from sklearn.linear_model import LogisticRegressionCV, LogisticRegression, SGDClassifier\n",
    "from sklearn.ensemble import BaggingClassifier, ExtraTreesClassifier, RandomForestClassifier\n",
    "\n",
    "from yellowbrick.classifier import ClassificationReport"
   ]
  },
  {
   "cell_type": "markdown",
   "metadata": {},
   "source": [
    "### About the Data"
   ]
  },
  {
   "cell_type": "markdown",
   "metadata": {},
   "source": [
    "I am using Home Mortgage Disclosure Act (HMDA) data for one year 2013,sample of 25,000 observations. https://www.consumerfinance.gov/data-research/hmda/explore \n",
    "\n",
    "Let's load the data:"
   ]
  },
  {
   "cell_type": "code",
   "execution_count": 2,
   "metadata": {
    "scrolled": true
   },
   "outputs": [
    {
     "data": {
      "text/html": [
       "<div>\n",
       "<style scoped>\n",
       "    .dataframe tbody tr th:only-of-type {\n",
       "        vertical-align: middle;\n",
       "    }\n",
       "\n",
       "    .dataframe tbody tr th {\n",
       "        vertical-align: top;\n",
       "    }\n",
       "\n",
       "    .dataframe thead th {\n",
       "        text-align: right;\n",
       "    }\n",
       "</style>\n",
       "<table border=\"1\" class=\"dataframe\">\n",
       "  <thead>\n",
       "    <tr style=\"text-align: right;\">\n",
       "      <th></th>\n",
       "      <th>Unnamed: 0</th>\n",
       "      <th>tract_to_msamd_income</th>\n",
       "      <th>rate_spread</th>\n",
       "      <th>population</th>\n",
       "      <th>minority_population</th>\n",
       "      <th>number_of_owner_occupied_units</th>\n",
       "      <th>number_of_1_to_4_family_units</th>\n",
       "      <th>loan_amount_000s</th>\n",
       "      <th>hud_median_family_income</th>\n",
       "      <th>applicant_income_000s</th>\n",
       "      <th>...</th>\n",
       "      <th>applicant_sex_name</th>\n",
       "      <th>applicant_race_name_5</th>\n",
       "      <th>applicant_race_name_4</th>\n",
       "      <th>applicant_race_name_3</th>\n",
       "      <th>applicant_race_name_2</th>\n",
       "      <th>applicant_race_name_1</th>\n",
       "      <th>applicant_ethnicity_name</th>\n",
       "      <th>agency_name</th>\n",
       "      <th>agency_abbr</th>\n",
       "      <th>action_taken_name</th>\n",
       "    </tr>\n",
       "  </thead>\n",
       "  <tbody>\n",
       "    <tr>\n",
       "      <th>0</th>\n",
       "      <td>0</td>\n",
       "      <td>117.730003</td>\n",
       "      <td>NaN</td>\n",
       "      <td>5180</td>\n",
       "      <td>63.189999</td>\n",
       "      <td>992</td>\n",
       "      <td>1215</td>\n",
       "      <td>79</td>\n",
       "      <td>61300</td>\n",
       "      <td>56</td>\n",
       "      <td>...</td>\n",
       "      <td>Male</td>\n",
       "      <td>NaN</td>\n",
       "      <td>NaN</td>\n",
       "      <td>NaN</td>\n",
       "      <td>NaN</td>\n",
       "      <td>White</td>\n",
       "      <td>Hispanic or Latino</td>\n",
       "      <td>National Credit Union Administration</td>\n",
       "      <td>NCUA</td>\n",
       "      <td>Loan originated</td>\n",
       "    </tr>\n",
       "    <tr>\n",
       "      <th>1</th>\n",
       "      <td>1</td>\n",
       "      <td>84.919998</td>\n",
       "      <td>NaN</td>\n",
       "      <td>4873</td>\n",
       "      <td>23.070000</td>\n",
       "      <td>1152</td>\n",
       "      <td>1882</td>\n",
       "      <td>128</td>\n",
       "      <td>54900</td>\n",
       "      <td>75</td>\n",
       "      <td>...</td>\n",
       "      <td>Female</td>\n",
       "      <td>NaN</td>\n",
       "      <td>NaN</td>\n",
       "      <td>NaN</td>\n",
       "      <td>NaN</td>\n",
       "      <td>White</td>\n",
       "      <td>Not Hispanic or Latino</td>\n",
       "      <td>Department of Housing and Urban Development</td>\n",
       "      <td>HUD</td>\n",
       "      <td>Loan originated</td>\n",
       "    </tr>\n",
       "    <tr>\n",
       "      <th>2</th>\n",
       "      <td>2</td>\n",
       "      <td>42.509998</td>\n",
       "      <td>NaN</td>\n",
       "      <td>1715</td>\n",
       "      <td>58.480000</td>\n",
       "      <td>346</td>\n",
       "      <td>784</td>\n",
       "      <td>43</td>\n",
       "      <td>68700</td>\n",
       "      <td>38</td>\n",
       "      <td>...</td>\n",
       "      <td>Male</td>\n",
       "      <td>NaN</td>\n",
       "      <td>NaN</td>\n",
       "      <td>NaN</td>\n",
       "      <td>NaN</td>\n",
       "      <td>White</td>\n",
       "      <td>Not Hispanic or Latino</td>\n",
       "      <td>Consumer Financial Protection Bureau</td>\n",
       "      <td>CFPB</td>\n",
       "      <td>Application denied by financial institution</td>\n",
       "    </tr>\n",
       "    <tr>\n",
       "      <th>3</th>\n",
       "      <td>3</td>\n",
       "      <td>106.650002</td>\n",
       "      <td>NaN</td>\n",
       "      <td>4071</td>\n",
       "      <td>15.920000</td>\n",
       "      <td>1180</td>\n",
       "      <td>1472</td>\n",
       "      <td>100</td>\n",
       "      <td>67800</td>\n",
       "      <td>65</td>\n",
       "      <td>...</td>\n",
       "      <td>Male</td>\n",
       "      <td>NaN</td>\n",
       "      <td>NaN</td>\n",
       "      <td>NaN</td>\n",
       "      <td>NaN</td>\n",
       "      <td>White</td>\n",
       "      <td>Not Hispanic or Latino</td>\n",
       "      <td>Consumer Financial Protection Bureau</td>\n",
       "      <td>CFPB</td>\n",
       "      <td>Application denied by financial institution</td>\n",
       "    </tr>\n",
       "    <tr>\n",
       "      <th>4</th>\n",
       "      <td>4</td>\n",
       "      <td>88.489998</td>\n",
       "      <td>NaN</td>\n",
       "      <td>3001</td>\n",
       "      <td>16.790001</td>\n",
       "      <td>503</td>\n",
       "      <td>330</td>\n",
       "      <td>103</td>\n",
       "      <td>77800</td>\n",
       "      <td>151</td>\n",
       "      <td>...</td>\n",
       "      <td>Female</td>\n",
       "      <td>NaN</td>\n",
       "      <td>NaN</td>\n",
       "      <td>NaN</td>\n",
       "      <td>NaN</td>\n",
       "      <td>White</td>\n",
       "      <td>Not Hispanic or Latino</td>\n",
       "      <td>Consumer Financial Protection Bureau</td>\n",
       "      <td>CFPB</td>\n",
       "      <td>Application approved but not accepted</td>\n",
       "    </tr>\n",
       "  </tbody>\n",
       "</table>\n",
       "<p>5 rows × 48 columns</p>\n",
       "</div>"
      ],
      "text/plain": [
       "   Unnamed: 0  tract_to_msamd_income  rate_spread  population  \\\n",
       "0           0             117.730003          NaN        5180   \n",
       "1           1              84.919998          NaN        4873   \n",
       "2           2              42.509998          NaN        1715   \n",
       "3           3             106.650002          NaN        4071   \n",
       "4           4              88.489998          NaN        3001   \n",
       "\n",
       "   minority_population  number_of_owner_occupied_units  \\\n",
       "0            63.189999                             992   \n",
       "1            23.070000                            1152   \n",
       "2            58.480000                             346   \n",
       "3            15.920000                            1180   \n",
       "4            16.790001                             503   \n",
       "\n",
       "   number_of_1_to_4_family_units  loan_amount_000s  hud_median_family_income  \\\n",
       "0                           1215                79                     61300   \n",
       "1                           1882               128                     54900   \n",
       "2                            784                43                     68700   \n",
       "3                           1472               100                     67800   \n",
       "4                            330               103                     77800   \n",
       "\n",
       "   applicant_income_000s                     ...                       \\\n",
       "0                     56                     ...                        \n",
       "1                     75                     ...                        \n",
       "2                     38                     ...                        \n",
       "3                     65                     ...                        \n",
       "4                    151                     ...                        \n",
       "\n",
       "  applicant_sex_name applicant_race_name_5  applicant_race_name_4  \\\n",
       "0               Male                   NaN                    NaN   \n",
       "1             Female                   NaN                    NaN   \n",
       "2               Male                   NaN                    NaN   \n",
       "3               Male                   NaN                    NaN   \n",
       "4             Female                   NaN                    NaN   \n",
       "\n",
       "  applicant_race_name_3 applicant_race_name_2 applicant_race_name_1  \\\n",
       "0                   NaN                   NaN                 White   \n",
       "1                   NaN                   NaN                 White   \n",
       "2                   NaN                   NaN                 White   \n",
       "3                   NaN                   NaN                 White   \n",
       "4                   NaN                   NaN                 White   \n",
       "\n",
       "  applicant_ethnicity_name                                  agency_name  \\\n",
       "0       Hispanic or Latino         National Credit Union Administration   \n",
       "1   Not Hispanic or Latino  Department of Housing and Urban Development   \n",
       "2   Not Hispanic or Latino         Consumer Financial Protection Bureau   \n",
       "3   Not Hispanic or Latino         Consumer Financial Protection Bureau   \n",
       "4   Not Hispanic or Latino         Consumer Financial Protection Bureau   \n",
       "\n",
       "  agency_abbr                            action_taken_name  \n",
       "0        NCUA                              Loan originated  \n",
       "1         HUD                              Loan originated  \n",
       "2        CFPB  Application denied by financial institution  \n",
       "3        CFPB  Application denied by financial institution  \n",
       "4        CFPB        Application approved but not accepted  \n",
       "\n",
       "[5 rows x 48 columns]"
      ]
     },
     "execution_count": 2,
     "metadata": {},
     "output_type": "execute_result"
    }
   ],
   "source": [
    "dataset = pd.read_csv(\"/Users/tamananaheeme/Desktop/fixtures/hmda2013sample.csv\")\n",
    "dataset.head(5)"
   ]
  },
  {
   "cell_type": "code",
   "execution_count": 3,
   "metadata": {},
   "outputs": [
    {
     "data": {
      "text/html": [
       "<div>\n",
       "<style scoped>\n",
       "    .dataframe tbody tr th:only-of-type {\n",
       "        vertical-align: middle;\n",
       "    }\n",
       "\n",
       "    .dataframe tbody tr th {\n",
       "        vertical-align: top;\n",
       "    }\n",
       "\n",
       "    .dataframe thead th {\n",
       "        text-align: right;\n",
       "    }\n",
       "</style>\n",
       "<table border=\"1\" class=\"dataframe\">\n",
       "  <thead>\n",
       "    <tr style=\"text-align: right;\">\n",
       "      <th>action_taken</th>\n",
       "      <th>0</th>\n",
       "      <th>1</th>\n",
       "      <th>All</th>\n",
       "    </tr>\n",
       "    <tr>\n",
       "      <th>action_taken_name</th>\n",
       "      <th></th>\n",
       "      <th></th>\n",
       "      <th></th>\n",
       "    </tr>\n",
       "  </thead>\n",
       "  <tbody>\n",
       "    <tr>\n",
       "      <th>Application approved but not accepted</th>\n",
       "      <td>1038</td>\n",
       "      <td>0</td>\n",
       "      <td>1038</td>\n",
       "    </tr>\n",
       "    <tr>\n",
       "      <th>Application denied by financial institution</th>\n",
       "      <td>3819</td>\n",
       "      <td>0</td>\n",
       "      <td>3819</td>\n",
       "    </tr>\n",
       "    <tr>\n",
       "      <th>Application withdrawn by applicant</th>\n",
       "      <td>2220</td>\n",
       "      <td>0</td>\n",
       "      <td>2220</td>\n",
       "    </tr>\n",
       "    <tr>\n",
       "      <th>File closed for incompleteness</th>\n",
       "      <td>753</td>\n",
       "      <td>0</td>\n",
       "      <td>753</td>\n",
       "    </tr>\n",
       "    <tr>\n",
       "      <th>Loan originated</th>\n",
       "      <td>0</td>\n",
       "      <td>14142</td>\n",
       "      <td>14142</td>\n",
       "    </tr>\n",
       "    <tr>\n",
       "      <th>Loan purchased by the institution</th>\n",
       "      <td>0</td>\n",
       "      <td>3028</td>\n",
       "      <td>3028</td>\n",
       "    </tr>\n",
       "    <tr>\n",
       "      <th>All</th>\n",
       "      <td>7830</td>\n",
       "      <td>17170</td>\n",
       "      <td>25000</td>\n",
       "    </tr>\n",
       "  </tbody>\n",
       "</table>\n",
       "</div>"
      ],
      "text/plain": [
       "action_taken                                    0      1    All\n",
       "action_taken_name                                              \n",
       "Application approved but not accepted        1038      0   1038\n",
       "Application denied by financial institution  3819      0   3819\n",
       "Application withdrawn by applicant           2220      0   2220\n",
       "File closed for incompleteness                753      0    753\n",
       "Loan originated                                 0  14142  14142\n",
       "Loan purchased by the institution               0   3028   3028\n",
       "All                                          7830  17170  25000"
      ]
     },
     "execution_count": 3,
     "metadata": {},
     "output_type": "execute_result"
    }
   ],
   "source": [
    "dataset['action_taken'] = dataset.action_taken_name.apply(lambda x: 1 if x in ['Loan purchased by the institution', 'Loan originated'] else 0)\n",
    "pd.crosstab(dataset['action_taken_name'],dataset['action_taken'], margins=True)"
   ]
  },
  {
   "cell_type": "code",
   "execution_count": 4,
   "metadata": {
    "scrolled": true
   },
   "outputs": [
    {
     "name": "stdout",
     "output_type": "stream",
     "text": [
      "         Unnamed: 0  tract_to_msamd_income  rate_spread    population  \\\n",
      "count  25000.000000           25000.000000   670.000000  25000.000000   \n",
      "mean   12499.500000             117.659708     2.532134   5330.473960   \n",
      "std     7217.022701              42.180985     1.541076   2393.740737   \n",
      "min        0.000000              13.040000     1.500000    158.000000   \n",
      "25%     6249.750000              90.489998     1.660000   3803.000000   \n",
      "50%    12499.500000             110.830002     1.920000   4972.000000   \n",
      "75%    18749.250000             138.389999     2.792500   6425.250000   \n",
      "max    24999.000000             405.700012    13.500000  33201.000000   \n",
      "\n",
      "       minority_population  number_of_owner_occupied_units  \\\n",
      "count         25000.000000                    25000.000000   \n",
      "mean             30.654104                     1409.926200   \n",
      "std              25.230882                      694.167618   \n",
      "min               1.000000                        6.000000   \n",
      "25%              10.940000                      929.750000   \n",
      "50%              22.129999                     1330.000000   \n",
      "75%              43.320000                     1780.000000   \n",
      "max              99.870003                     6886.000000   \n",
      "\n",
      "       number_of_1_to_4_family_units  loan_amount_000s  \\\n",
      "count                    25000.00000      25000.000000   \n",
      "mean                      1821.22132        216.371720   \n",
      "std                        845.79343        210.610144   \n",
      "min                          1.00000          1.000000   \n",
      "25%                       1275.75000        101.000000   \n",
      "50%                       1717.00000        169.000000   \n",
      "75%                       2261.00000        277.000000   \n",
      "max                       9464.00000      10000.000000   \n",
      "\n",
      "       hud_median_family_income  applicant_income_000s  sequence_number  \\\n",
      "count              25000.000000           25000.000000     2.500000e+04   \n",
      "mean               70200.892000             113.075120     2.014616e+05   \n",
      "std                16193.235984             166.405326     4.080680e+05   \n",
      "min                16400.000000               1.000000     1.000000e+00   \n",
      "25%                60000.000000              52.000000     2.209750e+03   \n",
      "50%                66000.000000              82.000000     2.297950e+04   \n",
      "75%                77800.000000             129.000000     1.727290e+05   \n",
      "max               112200.000000            8814.000000     2.242964e+06   \n",
      "\n",
      "       co_applicant_race_name_5  co_applicant_race_name_4  \\\n",
      "count                       0.0                       0.0   \n",
      "mean                        NaN                       NaN   \n",
      "std                         NaN                       NaN   \n",
      "min                         NaN                       NaN   \n",
      "25%                         NaN                       NaN   \n",
      "50%                         NaN                       NaN   \n",
      "75%                         NaN                       NaN   \n",
      "max                         NaN                       NaN   \n",
      "\n",
      "       co_applicant_race_name_3  census_tract_number  as_of_year  \\\n",
      "count                       0.0         25000.000000     25000.0   \n",
      "mean                        NaN          2145.460709      2013.0   \n",
      "std                         NaN          3241.109438         0.0   \n",
      "min                         NaN             1.000000      2013.0   \n",
      "25%                         NaN            90.000000      2013.0   \n",
      "50%                         NaN           251.030000      2013.0   \n",
      "75%                         NaN          3462.015000      2013.0   \n",
      "max                         NaN          9813.000000      2013.0   \n",
      "\n",
      "       application_date_indicator  applicant_race_name_5  action_taken  \n",
      "count                25000.000000                    0.0  25000.000000  \n",
      "mean                     0.242240                    NaN      0.686800  \n",
      "std                      0.652546                    NaN      0.463804  \n",
      "min                      0.000000                    NaN      0.000000  \n",
      "25%                      0.000000                    NaN      0.000000  \n",
      "50%                      0.000000                    NaN      1.000000  \n",
      "75%                      0.000000                    NaN      1.000000  \n",
      "max                      2.000000                    NaN      1.000000  \n"
     ]
    }
   ],
   "source": [
    "print(dataset.describe())"
   ]
  },
  {
   "cell_type": "code",
   "execution_count": 5,
   "metadata": {},
   "outputs": [],
   "source": [
    "features = ['tract_to_msamd_income', \n",
    "    'population', \n",
    "    'minority_population', \n",
    "    'number_of_owner_occupied_units', \n",
    "    'number_of_1_to_4_family_units', \n",
    "    'loan_amount_000s', \n",
    "    'hud_median_family_income', \n",
    "    'applicant_income_000s']\n",
    "\n",
    "target = ['action_taken']\n"
   ]
  },
  {
   "cell_type": "code",
   "execution_count": 6,
   "metadata": {
    "scrolled": true
   },
   "outputs": [
    {
     "name": "stdout",
     "output_type": "stream",
     "text": [
      "(25000, 8) (25000, 1)\n"
     ]
    }
   ],
   "source": [
    "# Extract our X and y data\n",
    "X = dataset[features]\n",
    "y = dataset[target]\n",
    "\n",
    "print(X.shape, y.shape)"
   ]
  },
  {
   "cell_type": "code",
   "execution_count": 7,
   "metadata": {},
   "outputs": [],
   "source": [
    "# add line of code to fill in missing values\n",
    "X.fillna(X.mean(), inplace=True)"
   ]
  },
  {
   "cell_type": "code",
   "execution_count": 8,
   "metadata": {},
   "outputs": [
    {
     "data": {
      "text/html": [
       "<div>\n",
       "<style scoped>\n",
       "    .dataframe tbody tr th:only-of-type {\n",
       "        vertical-align: middle;\n",
       "    }\n",
       "\n",
       "    .dataframe tbody tr th {\n",
       "        vertical-align: top;\n",
       "    }\n",
       "\n",
       "    .dataframe thead th {\n",
       "        text-align: right;\n",
       "    }\n",
       "</style>\n",
       "<table border=\"1\" class=\"dataframe\">\n",
       "  <thead>\n",
       "    <tr style=\"text-align: right;\">\n",
       "      <th></th>\n",
       "      <th>tract_to_msamd_income</th>\n",
       "      <th>population</th>\n",
       "      <th>minority_population</th>\n",
       "      <th>number_of_owner_occupied_units</th>\n",
       "      <th>number_of_1_to_4_family_units</th>\n",
       "      <th>loan_amount_000s</th>\n",
       "      <th>hud_median_family_income</th>\n",
       "      <th>applicant_income_000s</th>\n",
       "    </tr>\n",
       "  </thead>\n",
       "  <tbody>\n",
       "    <tr>\n",
       "      <th>count</th>\n",
       "      <td>25000.000000</td>\n",
       "      <td>25000.000000</td>\n",
       "      <td>25000.000000</td>\n",
       "      <td>25000.000000</td>\n",
       "      <td>25000.00000</td>\n",
       "      <td>25000.000000</td>\n",
       "      <td>25000.000000</td>\n",
       "      <td>25000.000000</td>\n",
       "    </tr>\n",
       "    <tr>\n",
       "      <th>mean</th>\n",
       "      <td>117.659708</td>\n",
       "      <td>5330.473960</td>\n",
       "      <td>30.654104</td>\n",
       "      <td>1409.926200</td>\n",
       "      <td>1821.22132</td>\n",
       "      <td>216.371720</td>\n",
       "      <td>70200.892000</td>\n",
       "      <td>113.075120</td>\n",
       "    </tr>\n",
       "    <tr>\n",
       "      <th>std</th>\n",
       "      <td>42.180985</td>\n",
       "      <td>2393.740737</td>\n",
       "      <td>25.230882</td>\n",
       "      <td>694.167618</td>\n",
       "      <td>845.79343</td>\n",
       "      <td>210.610144</td>\n",
       "      <td>16193.235984</td>\n",
       "      <td>166.405326</td>\n",
       "    </tr>\n",
       "    <tr>\n",
       "      <th>min</th>\n",
       "      <td>13.040000</td>\n",
       "      <td>158.000000</td>\n",
       "      <td>1.000000</td>\n",
       "      <td>6.000000</td>\n",
       "      <td>1.00000</td>\n",
       "      <td>1.000000</td>\n",
       "      <td>16400.000000</td>\n",
       "      <td>1.000000</td>\n",
       "    </tr>\n",
       "    <tr>\n",
       "      <th>25%</th>\n",
       "      <td>90.489998</td>\n",
       "      <td>3803.000000</td>\n",
       "      <td>10.940000</td>\n",
       "      <td>929.750000</td>\n",
       "      <td>1275.75000</td>\n",
       "      <td>101.000000</td>\n",
       "      <td>60000.000000</td>\n",
       "      <td>52.000000</td>\n",
       "    </tr>\n",
       "    <tr>\n",
       "      <th>50%</th>\n",
       "      <td>110.830002</td>\n",
       "      <td>4972.000000</td>\n",
       "      <td>22.129999</td>\n",
       "      <td>1330.000000</td>\n",
       "      <td>1717.00000</td>\n",
       "      <td>169.000000</td>\n",
       "      <td>66000.000000</td>\n",
       "      <td>82.000000</td>\n",
       "    </tr>\n",
       "    <tr>\n",
       "      <th>75%</th>\n",
       "      <td>138.389999</td>\n",
       "      <td>6425.250000</td>\n",
       "      <td>43.320000</td>\n",
       "      <td>1780.000000</td>\n",
       "      <td>2261.00000</td>\n",
       "      <td>277.000000</td>\n",
       "      <td>77800.000000</td>\n",
       "      <td>129.000000</td>\n",
       "    </tr>\n",
       "    <tr>\n",
       "      <th>max</th>\n",
       "      <td>405.700012</td>\n",
       "      <td>33201.000000</td>\n",
       "      <td>99.870003</td>\n",
       "      <td>6886.000000</td>\n",
       "      <td>9464.00000</td>\n",
       "      <td>10000.000000</td>\n",
       "      <td>112200.000000</td>\n",
       "      <td>8814.000000</td>\n",
       "    </tr>\n",
       "  </tbody>\n",
       "</table>\n",
       "</div>"
      ],
      "text/plain": [
       "       tract_to_msamd_income    population  minority_population  \\\n",
       "count           25000.000000  25000.000000         25000.000000   \n",
       "mean              117.659708   5330.473960            30.654104   \n",
       "std                42.180985   2393.740737            25.230882   \n",
       "min                13.040000    158.000000             1.000000   \n",
       "25%                90.489998   3803.000000            10.940000   \n",
       "50%               110.830002   4972.000000            22.129999   \n",
       "75%               138.389999   6425.250000            43.320000   \n",
       "max               405.700012  33201.000000            99.870003   \n",
       "\n",
       "       number_of_owner_occupied_units  number_of_1_to_4_family_units  \\\n",
       "count                    25000.000000                    25000.00000   \n",
       "mean                      1409.926200                     1821.22132   \n",
       "std                        694.167618                      845.79343   \n",
       "min                          6.000000                        1.00000   \n",
       "25%                        929.750000                     1275.75000   \n",
       "50%                       1330.000000                     1717.00000   \n",
       "75%                       1780.000000                     2261.00000   \n",
       "max                       6886.000000                     9464.00000   \n",
       "\n",
       "       loan_amount_000s  hud_median_family_income  applicant_income_000s  \n",
       "count      25000.000000              25000.000000           25000.000000  \n",
       "mean         216.371720              70200.892000             113.075120  \n",
       "std          210.610144              16193.235984             166.405326  \n",
       "min            1.000000              16400.000000               1.000000  \n",
       "25%          101.000000              60000.000000              52.000000  \n",
       "50%          169.000000              66000.000000              82.000000  \n",
       "75%          277.000000              77800.000000             129.000000  \n",
       "max        10000.000000             112200.000000            8814.000000  "
      ]
     },
     "execution_count": 8,
     "metadata": {},
     "output_type": "execute_result"
    }
   ],
   "source": [
    "X.describe()"
   ]
  },
  {
   "cell_type": "markdown",
   "metadata": {},
   "source": [
    "### Modeling and Evaluation\n"
   ]
  },
  {
   "cell_type": "code",
   "execution_count": 9,
   "metadata": {},
   "outputs": [],
   "source": [
    "def score_model(X, y, estimator, **kwargs):\n",
    "    \"\"\"\n",
    "    Test various estimators.\n",
    "    \"\"\" \n",
    "\n",
    "    model = Pipeline([\n",
    "         ('estimator', estimator)\n",
    "    ])\n",
    "\n",
    "    # Instantiate the classification model and visualizer\n",
    "    model.fit(X, y, **kwargs)  \n",
    "    \n",
    "    expected  = y\n",
    "    predicted = model.predict(X)\n",
    "    \n",
    "    # Compute and return F1 (harmonic mean of precision and recall)\n",
    "    print(\"{}: {}\".format(estimator.__class__.__name__, f1_score(expected, predicted)))"
   ]
  },
  {
   "cell_type": "code",
   "execution_count": 10,
   "metadata": {},
   "outputs": [
    {
     "name": "stdout",
     "output_type": "stream",
     "text": [
      "GaussianNB: 0.7935713744219545\n",
      "BernoulliNB: 0.8143229784206782\n",
      "MultinomialNB: 0.5886471787899388\n",
      "LogisticRegression: 0.8140529241294124\n",
      "LogisticRegressionCV: 0.8140705904707616\n",
      "BaggingClassifier: 0.9903065234477338\n",
      "ExtraTreesClassifier: 0.9996212893640574\n",
      "RandomForestClassifier: 0.9996214658008911\n"
     ]
    }
   ],
   "source": [
    "# Try them all!\n",
    "\n",
    "models = [\n",
    "    GaussianNB(), BernoulliNB(), MultinomialNB(),\n",
    "    LogisticRegression(solver='lbfgs', max_iter=4000), LogisticRegressionCV(cv=3, max_iter=4000), \n",
    "    BaggingClassifier(), ExtraTreesClassifier(n_estimators=100), \n",
    "    RandomForestClassifier(n_estimators=100)\n",
    "]\n",
    "\n",
    "for model in models:\n",
    "    score_model(X, y, model)"
   ]
  },
  {
   "cell_type": "markdown",
   "metadata": {},
   "source": [
    "### Visual Model Evaluation\n"
   ]
  },
  {
   "cell_type": "code",
   "execution_count": 11,
   "metadata": {
    "scrolled": false
   },
   "outputs": [
    {
     "data": {
      "image/png": "[encoded data removed]",
      "text/plain": [
       "<Figure size 600x360 with 2 Axes>"
      ]
     },
     "metadata": {
      "needs_background": "light"
     },
     "output_type": "display_data"
    },
    {
     "data": {
      "image/png": "[encoded data removed]",
      "text/plain": [
       "<Figure size 600x360 with 2 Axes>"
      ]
     },
     "metadata": {
      "needs_background": "light"
     },
     "output_type": "display_data"
    },
    {
     "data": {
      "image/png": "[encoded data removed]",
      "text/plain": [
       "<Figure size 600x360 with 2 Axes>"
      ]
     },
     "metadata": {
      "needs_background": "light"
     },
     "output_type": "display_data"
    },
    {
     "data": {
      "image/png": "[encoded data removed]",
      "text/plain": [
       "<Figure size 600x360 with 2 Axes>"
      ]
     },
     "metadata": {
      "needs_background": "light"
     },
     "output_type": "display_data"
    },
    {
     "data": {
      "image/png": "[encoded data removed]",
      "text/plain": [
       "<Figure size 600x360 with 2 Axes>"
      ]
     },
     "metadata": {
      "needs_background": "light"
     },
     "output_type": "display_data"
    },
    {
     "data": {
      "image/png": "[encoded data removed]",
      "text/plain": [
       "<Figure size 600x360 with 2 Axes>"
      ]
     },
     "metadata": {
      "needs_background": "light"
     },
     "output_type": "display_data"
    },
    {
     "data": {
      "image/png": "[encoded data removed]",
      "text/plain": [
       "<Figure size 600x360 with 2 Axes>"
      ]
     },
     "metadata": {
      "needs_background": "light"
     },
     "output_type": "display_data"
    },
    {
     "data": {
      "image/png": "[encoded data removed]",
      "text/plain": [
       "<Figure size 600x360 with 2 Axes>"
      ]
     },
     "metadata": {
      "needs_background": "light"
     },
     "output_type": "display_data"
    }
   ],
   "source": [
    "def visualize_model(X, y, estimator):\n",
    "    \"\"\"\n",
    "    Test various estimators.\n",
    "    \"\"\" \n",
    "    model = Pipeline([\n",
    "         ('estimator', estimator)\n",
    "    ])\n",
    "\n",
    "    # Instantiate the classification model and visualizer\n",
    "    visualizer = ClassificationReport(\n",
    "        model, classes=[1,0], \n",
    "        cmap=\"greens\", size=(600, 360)\n",
    "    )\n",
    "    visualizer.fit(X, y)  \n",
    "    visualizer.score(X, y)\n",
    "    visualizer.poof()  \n",
    "\n",
    "for model in models:\n",
    "    visualize_model(X, y, model)"
   ]
  },
  {
   "cell_type": "code",
   "execution_count": null,
   "metadata": {},
   "outputs": [],
   "source": []
  }
 ],
 "metadata": {
  "kernelspec": {
   "display_name": "Python 3",
   "language": "python",
   "name": "python3"
  },
  "language_info": {
   "codemirror_mode": {
    "name": "ipython",
    "version": 3
   },
   "file_extension": ".py",
   "mimetype": "text/x-python",
   "name": "python",
   "nbconvert_exporter": "python",
   "pygments_lexer": "ipython3",
   "version": "3.7.1"
  }
 },
 "nbformat": 4,
 "nbformat_minor": 2
}
