{
 "cells": [
  {
   "cell_type": "markdown",
   "metadata": {},
   "source": [
    "\n",
    "===============================================================\n",
    "### Model selection with GridSearchCV\n",
    "===============================================================\n",
    "\n",
    "*class sklearn.model_selection.GridSearchCV(estimator, param_grid, scoring=None, n_jobs=None, iid=’warn’, refit=True, cv=’warn’, verbose=0, pre_dispatch=‘2*\\*n_jobs’, *error_score=’raise-deprecating’, return_train_score=False)*\n",
    "\n",
    "-- \n",
    "\n",
    "Exhaustive search over specified parameter values for an estimator. Important members are fit, predict.\n",
    "\n",
    "GridSearchCV implements a “fit” and a “score” method. It also implements “predict”, “predict_proba”, “decision_function”, “transform” and “inverse_transform” if they are implemented in the estimator used.\n",
    "\n",
    "The parameters of the estimator used to apply these methods are optimized by cross-validated grid-search over a parameter grid.  \n",
    "\n",
    "--\n",
    "\n",
    "**NOTE:** This is sourced from ```scikit-learn``` learning module found here:   \n",
    "https://scikit-learn.org/stable/modules/generated/sklearn.model_selection.GridSearchCV.html\n",
    "\n",
    "--"
   ]
  },
  {
   "cell_type": "code",
   "execution_count": null,
   "metadata": {},
   "outputs": [],
   "source": [
    "attributes_example = {\n",
    "'param_kernel': masked_array(data = ['poly', 'poly', 'rbf', 'rbf'],\n",
    "                             mask = [False False False False]...)\n",
    "'param_gamma': masked_array(data = [-- -- 0.1 0.2],\n",
    "                            mask = [ True  True False False]...),\n",
    "'param_degree': masked_array(data = [2.0 3.0 -- --],\n",
    "                             mask = [False False  True  True]...),\n",
    "'split0_test_score'  : [0.80, 0.70, 0.80, 0.93],\n",
    "'split1_test_score'  : [0.82, 0.50, 0.70, 0.78],\n",
    "'mean_test_score'    : [0.81, 0.60, 0.75, 0.85],\n",
    "'std_test_score'     : [0.01, 0.10, 0.05, 0.08],\n",
    "'rank_test_score'    : [2, 4, 3, 1],\n",
    "'split0_train_score' : [0.80, 0.92, 0.70, 0.93],\n",
    "'split1_train_score' : [0.82, 0.55, 0.70, 0.87],\n",
    "'mean_train_score'   : [0.81, 0.74, 0.70, 0.90],\n",
    "'std_train_score'    : [0.01, 0.19, 0.00, 0.03],\n",
    "'mean_fit_time'      : [0.73, 0.63, 0.43, 0.49],\n",
    "'std_fit_time'       : [0.01, 0.02, 0.01, 0.01],\n",
    "'mean_score_time'    : [0.01, 0.06, 0.04, 0.04],\n",
    "'std_score_time'     : [0.00, 0.00, 0.00, 0.01],\n",
    "'params'             : [{'kernel': 'poly', 'degree': 2}, ...],\n",
    "}"
   ]
  },
  {
   "cell_type": "markdown",
   "metadata": {},
   "source": [
    "--"
   ]
  },
  {
   "cell_type": "code",
   "execution_count": null,
   "metadata": {},
   "outputs": [],
   "source": [
    "# Documentation example using iris dataset:\n",
    "\n",
    "from sklearn import svm, datasets\n",
    "from sklearn.model_selection import GridSearchCV\n",
    "iris = datasets.load_iris()\n",
    "parameters = {'kernel':('linear', 'rbf'), 'C':[1, 10]}\n",
    "svc = svm.SVC(gamma=\"scale\")\n",
    "clf = GridSearchCV(svc, parameters, cv=5)\n",
    "clf.fit(iris.data, iris.target)\n",
    "\n",
    "    #-->GridserchCV structure:\n",
    "GridSearchCV(cv=5, error_score=...,\n",
    "       estimator=SVC(C=1.0, cache_size=..., class_weight=..., coef0=...,\n",
    "                     decision_function_shape='ovr', degree=..., gamma=...,\n",
    "                     kernel='rbf', max_iter=-1, probability=False,\n",
    "                     random_state=None, shrinking=True, tol=...,\n",
    "                     verbose=False),\n",
    "       iid=..., n_jobs=None,\n",
    "       param_grid=..., pre_dispatch=..., refit=..., return_train_score=...,\n",
    "       scoring=..., verbose=...)\n",
    "sorted(clf.cv_results_.keys())\n",
    "...                             \n",
    "['mean_fit_time', 'mean_score_time', 'mean_test_score',...\n",
    " 'param_C', 'param_kernel', 'params',...\n",
    " 'rank_test_score', 'split0_test_score',...\n",
    " 'split2_test_score', ...\n",
    " 'std_fit_time', 'std_score_time', 'std_test_score']"
   ]
  },
  {
   "cell_type": "markdown",
   "metadata": {},
   "source": [
    "--"
   ]
  },
  {
   "cell_type": "code",
   "execution_count": null,
   "metadata": {},
   "outputs": [],
   "source": []
  }
 ],
 "metadata": {
  "kernelspec": {
   "display_name": "Python 3",
   "language": "python",
   "name": "python3"
  },
  "language_info": {
   "codemirror_mode": {
    "name": "ipython",
    "version": 3
   },
   "file_extension": ".py",
   "mimetype": "text/x-python",
   "name": "python",
   "nbconvert_exporter": "python",
   "pygments_lexer": "ipython3",
   "version": "3.7.3"
  }
 },
 "nbformat": 4,
 "nbformat_minor": 4
}
