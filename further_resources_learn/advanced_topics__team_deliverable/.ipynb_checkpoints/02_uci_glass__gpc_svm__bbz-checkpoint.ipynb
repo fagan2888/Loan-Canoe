{
 "cells": [
  {
   "cell_type": "markdown",
   "metadata": {},
   "source": [
    "# **Team Loan Canoe:** *Advanced Topics I Deliverable Workshop*\n",
    "\n",
    "### **UCI Dataset for Deliverable:** *Glass Identification Data Set*\n",
    "\n",
    "---\n",
    "\n",
    "Vina conducted a comparison test of her rule-based system, BEAGLE, the nearest-neighbor algorithm, and discriminant analysis. BEAGLE is a product available through VRS Consulting, Inc.; 4676 Admiralty Way, Suite 206; Marina Del Ray, CA 90292 (213) 827-7890 and FAX: -3189. In determining whether the glass was a type of \"float\" glass or not, the following results were obtained (# incorrect answers):\n",
    "\n",
    "Type of Sample -- Beagle -- NN -- DA\n",
    "Windows that were float processed (87) -- 10 -- 12 -- 21\n",
    "Windows that were not: (76) -- 19 -- 16 -- 22\n",
    "\n",
    "The study of classification of types of glass was motivated by criminological investigation. At the scene of the crime, the glass left can be used as evidence...if it is correctly identified!\n",
    "\n",
    "--  \n",
    "\n",
    "***Attribute Information:***\n",
    "\n",
    "1. Id number: 1 to 214\n",
    "2. RI: refractive index\n",
    "3. Na: Sodium (unit measurement: weight percent in corresponding oxide, as are attributes 4-10)\n",
    "4. Mg: Magnesium\n",
    "5. Al: Aluminum\n",
    "6. Si: Silicon\n",
    "7. K: Potassium\n",
    "8. Ca: Calcium\n",
    "9. Ba: Barium\n",
    "10. Fe: Iron\n",
    "11. Type of glass: (class attribute)\n",
    "-- 1 building_windows_float_processed\n",
    "-- 2 building_windows_non_float_processed\n",
    "-- 3 vehicle_windows_float_processed\n",
    "-- 4 vehicle_windows_non_float_processed (none in this database)\n",
    "-- 5 containers\n",
    "-- 6 tableware\n",
    "-- 7 headlamps\n",
    "\n",
    "---"
   ]
  },
  {
   "cell_type": "code",
   "execution_count": 42,
   "metadata": {},
   "outputs": [],
   "source": [
    "# Load libraries\n",
    "from sklearn import model_selection\n",
    "from sklearn.metrics import classification_report\n",
    "from sklearn.metrics import confusion_matrix\n",
    "from sklearn.metrics import accuracy_score\n",
    "from sklearn.linear_model import LogisticRegression\n",
    "from sklearn.tree import DecisionTreeClassifier\n",
    "from sklearn.neighbors import KNeighborsClassifier\n",
    "from sklearn.svm import SVC\n",
    "import numpy as np\n",
    "import os.path\n",
    "\n",
    "%matplotlib inline\n",
    "\n",
    "import os\n",
    "import json\n",
    "import time\n",
    "import pickle\n",
    "import requests\n",
    "\n",
    "\n",
    "import numpy as np\n",
    "import pandas as pd\n",
    "import pandas\n",
    "import matplotlib.pyplot as plt\n",
    "\n",
    "from sklearn.datasets.base import Bunch"
   ]
  },
  {
   "cell_type": "code",
   "execution_count": 43,
   "metadata": {},
   "outputs": [],
   "source": [
    "URL = \"https://archive.ics.uci.edu/ml/machine-learning-databases/glass/glass.data\"\n",
    "\n",
    "def fetch_data(fname='glass.csv'):\n",
    "    \"\"\"\n",
    "    Helper method to retreive the ML Repository dataset.\n",
    "    \"\"\"\n",
    "    response = requests.get(URL)\n",
    "    outpath  = os.path.abspath(fname)\n",
    "    with open(outpath, 'wb') as f:\n",
    "        f.write(response.content)\n",
    "    \n",
    "    return outpath\n",
    "\n",
    "# Fetch the data if required\n",
    "DATA = fetch_data()"
   ]
  },
  {
   "cell_type": "code",
   "execution_count": 44,
   "metadata": {},
   "outputs": [
    {
     "name": "stdout",
     "output_type": "stream",
     "text": [
      "         id_number          ri          na          mg          al  \\\n",
      "count   214.000000  214.000000  214.000000  214.000000  214.000000   \n",
      "unique         NaN         NaN         NaN         NaN         NaN   \n",
      "top            NaN         NaN         NaN         NaN         NaN   \n",
      "freq           NaN         NaN         NaN         NaN         NaN   \n",
      "mean    107.500000    1.518365   13.407850    2.684533    1.444907   \n",
      "std      61.920648    0.003037    0.816604    1.442408    0.499270   \n",
      "min       1.000000    1.511150   10.730000    0.000000    0.290000   \n",
      "25%      54.250000    1.516523   12.907500    2.115000    1.190000   \n",
      "50%     107.500000    1.517680   13.300000    3.480000    1.360000   \n",
      "75%     160.750000    1.519157   13.825000    3.600000    1.630000   \n",
      "max     214.000000    1.533930   17.380000    4.490000    3.500000   \n",
      "\n",
      "                si           k          ca          ba          fe  \\\n",
      "count   214.000000  214.000000  214.000000  214.000000  214.000000   \n",
      "unique         NaN         NaN         NaN         NaN         NaN   \n",
      "top            NaN         NaN         NaN         NaN         NaN   \n",
      "freq           NaN         NaN         NaN         NaN         NaN   \n",
      "mean     72.650935    0.497056    8.956963    0.175047    0.057009   \n",
      "std       0.774546    0.652192    1.423153    0.497219    0.097439   \n",
      "min      69.810000    0.000000    5.430000    0.000000    0.000000   \n",
      "25%      72.280000    0.122500    8.240000    0.000000    0.000000   \n",
      "50%      72.790000    0.555000    8.600000    0.000000    0.000000   \n",
      "75%      73.087500    0.610000    9.172500    0.000000    0.100000   \n",
      "max      75.410000    6.210000   16.190000    3.150000    0.510000   \n",
      "\n",
      "                                       class  \n",
      "count                                    214  \n",
      "unique                                     6  \n",
      "top     building_windows_non_float_processed  \n",
      "freq                                      76  \n",
      "mean                                     NaN  \n",
      "std                                      NaN  \n",
      "min                                      NaN  \n",
      "25%                                      NaN  \n",
      "50%                                      NaN  \n",
      "75%                                      NaN  \n",
      "max                                      NaN  \n"
     ]
    }
   ],
   "source": [
    "FEATURES  = [\n",
    "    'id_number', \n",
    "    'ri', \n",
    "    'na', \n",
    "    'mg', \n",
    "    'al', \n",
    "    'si', \n",
    "    'k', \n",
    "    'ca', \n",
    "    'ba', \n",
    "    'fe', \n",
    "    'class'\n",
    "]\n",
    "\n",
    "CLASS_LABEL_MAP = {\n",
    "    1: 'building_windows_float_processed' ,\n",
    "    2: 'building_windows_non_float_processed' ,\n",
    "    3: 'vehicle_windows_float_processed' ,\n",
    "    4: 'vehicle_windows_non_float_processed' ,\n",
    "    5: 'containers' ,\n",
    "    6: 'tableware' ,\n",
    "    7: 'headlamps' ,\n",
    "}\n",
    "                   \n",
    "# Read the data into a DataFrame\n",
    "df = pd.read_csv(DATA, header=None, names=FEATURES)\n",
    "\n",
    "# Convert class labels into text\n",
    "df['class'] = df['class'].map(CLASS_LABEL_MAP)\n",
    "\n",
    "# Describe the dataset\n",
    "print(df.describe(include='all'))"
   ]
  },
  {
   "cell_type": "code",
   "execution_count": 45,
   "metadata": {},
   "outputs": [
    {
     "name": "stdout",
     "output_type": "stream",
     "text": [
      "214 instances with 11 features\n",
      "\n",
      "col_0                                 count\n",
      "class                                      \n",
      "building_windows_float_processed         70\n",
      "building_windows_non_float_processed     76\n",
      "containers                               13\n",
      "headlamps                                29\n",
      "tableware                                 9\n",
      "vehicle_windows_float_processed          17\n"
     ]
    }
   ],
   "source": [
    "# Determine the shape of the data\n",
    "print(\"{} instances with {} features\\n\".format(*df.shape))\n",
    "\n",
    "# Determine the frequency of each class\n",
    "print(pd.crosstab(index=df['class'], columns=\"count\"))"
   ]
  },
  {
   "cell_type": "markdown",
   "metadata": {},
   "source": [
    "--"
   ]
  },
  {
   "cell_type": "code",
   "execution_count": 46,
   "metadata": {},
   "outputs": [
    {
     "name": "stdout",
     "output_type": "stream",
     "text": [
      "- glass.csv\n",
      "- data.pkl\n",
      "- 02_uci_glass__gpc_svm__bbz.ipynb\n"
     ]
    }
   ],
   "source": [
    "# Show contents of my data directory\n",
    "\n",
    "DATA_DIR = os.getcwd()\n",
    "\n",
    "for name in os.listdir(DATA_DIR):\n",
    "    if name.startswith(\".\"): continue\n",
    "    print(\"- {}\".format(name))"
   ]
  },
  {
   "cell_type": "markdown",
   "metadata": {},
   "source": [
    "--"
   ]
  },
  {
   "cell_type": "code",
   "execution_count": 47,
   "metadata": {},
   "outputs": [],
   "source": [
    "# Function for loading dataset \n",
    "def open_dataset():\n",
    "    url = \"http://archive.ics.uci.edu/ml/machine-learning-databases/glass/glass.data\"\n",
    "    names = [\n",
    "        'id',\n",
    "        'refractive-index',\n",
    "        'Sodium',\n",
    "        'Magnesium',\n",
    "        'Aluminum',\n",
    "        'Silicon',\n",
    "        'Potassium',\n",
    "        'Calcium',\n",
    "        'Barium',\n",
    "        'Iron',\n",
    "        'class'\n",
    "    ] #return as a dataframe in pandas\n",
    "    return pandas.read_csv(url, names=names) "
   ]
  },
  {
   "cell_type": "code",
   "execution_count": 48,
   "metadata": {},
   "outputs": [],
   "source": [
    "# Seperating the elements and type of glass\n",
    "\n",
    "def split_data(dataset):\n",
    "    # seperate the elements and type of glass\n",
    "    array = dataset.values\n",
    "    X = array[:, 1:10]\n",
    "    Y = array[:, 10]\n",
    "    return X, Y"
   ]
  },
  {
   "cell_type": "code",
   "execution_count": 49,
   "metadata": {},
   "outputs": [],
   "source": [
    "# Preparing a traing data set from our data\n",
    "\n",
    "def prepare_training(models):\n",
    "    dataset = open_dataset()\n",
    "    validation_size = 0.50\n",
    "    seed = 7\n",
    "    X, Y = split_data(dataset)\n",
    "    # splits the dataset into a training set and a test set\n",
    "    X_train, X_test, Y_train, Y_test = model_selection.train_test_split(\n",
    "        X,\n",
    "        Y,\n",
    "        test_size=validation_size,\n",
    "        random_state=seed\n",
    "    )\n",
    "    train_models(models, X_train, Y_train, X_test, Y_test)"
   ]
  },
  {
   "cell_type": "code",
   "execution_count": 50,
   "metadata": {},
   "outputs": [],
   "source": [
    "# Usig kfold to iterate through some models\n",
    "\n",
    "def train_models(models, X_train, Y_train, X_test, Y_test):\n",
    "    classifiers = []\n",
    "    # iterates through the models\n",
    "    for name, model in models:\n",
    "        # chooses the index's for test and training set\n",
    "        kfold = model_selection.KFold(n_splits=4)\n",
    "        for traincv, testcv in kfold.split(X_train):\n",
    "            # trains the models\n",
    "            model.fit(X_train[traincv], Y_train[traincv])\n",
    "            # tests the models, doesn't output the result\n",
    "            model.predict(X_train[testcv])\n",
    "        # final test on the original test set\n",
    "        prediction = model.predict(X_test)\n",
    "        print(name, accuracy_score(prediction, Y_test) * 100)\n",
    "        with open(\n",
    "            'pickle/' + name + '_classifier.pickle',\n",
    "            'wb'\n",
    "        ) as ph:\n",
    "            pickle.dump(model, ph)\n",
    "        classifiers.append((name, model))\n",
    "    return classifiers"
   ]
  },
  {
   "cell_type": "code",
   "execution_count": 51,
   "metadata": {},
   "outputs": [],
   "source": [
    "# Dictionary for Glass Types\n",
    "\n",
    "glass_types = {\n",
    "    '1.0': 'Building Windows Float Processed',\n",
    "    '2.0': 'Building Windows Non Float Processed',\n",
    "    '3.0': 'Vehicle Windows Float Processed',\n",
    "    '4.0': 'Vehicle Windows Non Float Processed',\n",
    "    '5.0': 'Containers',\n",
    "    '6.0': 'Tableware',\n",
    "    '7.0': 'Headlamps'\n",
    "}"
   ]
  },
  {
   "cell_type": "code",
   "execution_count": 52,
   "metadata": {},
   "outputs": [],
   "source": [
    "# Generating a short catalogue of classifers\n",
    "\n",
    "classifiers = [\n",
    "    'DecisionTreeClassifier',\n",
    "    'SVM'\n",
    "]"
   ]
  },
  {
   "cell_type": "markdown",
   "metadata": {},
   "source": [
    "**Documentation** -- Python's Pickle module:  \n",
    "*http://ataspinar.com/2017/05/26/classification-with-scikit-learn/*  \n",
    "*https://stackoverflow.com/questions/48477949/not-able-to-pip-install-pickle-in-python-3-6/48477988*"
   ]
  },
  {
   "cell_type": "code",
   "execution_count": 54,
   "metadata": {},
   "outputs": [],
   "source": [
    "# Import and test pickle (standard python module) to make sure troubleshooting solved\n",
    "\n",
    "import pickle\n",
    "\n",
    "intArray = [i for i in range(1,100)]\n",
    "output = open('data.pkl', 'wb')\n",
    "pickle.dump(intArray, output)\n",
    "output.close()"
   ]
  },
  {
   "cell_type": "markdown",
   "metadata": {},
   "source": [
    "--"
   ]
  },
  {
   "cell_type": "code",
   "execution_count": 56,
   "metadata": {},
   "outputs": [],
   "source": [
    "# Checking for classifers -- if not in there, then it loops to create them\n",
    "\n",
    "models = []\n",
    "\n",
    "if os.path.isfile('pickle/SVM_classifier.pickle'):\n",
    "    for name in classifiers:\n",
    "        with open('pickle/SVM_classifier.pickle', 'rb') as ph:\n",
    "            models.append((name, pickle.load(ph)))\n",
    "else:\n",
    "    models.append(('DecisionTreeClassifier', DecisionTreeClassifier()))\n",
    "    models.append(('SVM', SVC()))\n",
    "    models = prepare_training(models)\n",
    "\n",
    "# inputs new data to test\n",
    "ri = float(input(\"Enter Refractive Index: \"))\n",
    "na = float(input(\"Enter Sodium: \"))\n",
    "mg = float(input(\"Enter Magnesium: \"))\n",
    "al = float(input(\"Enter Aluminum: \"))\n",
    "si = float(input(\"Enter Silicon: \"))\n",
    "k = float(input(\"Enter Potassium: \"))\n",
    "ca = float(input(\"Enter Calcium: \"))\n",
    "ba = float(input(\"Enter Barium: \"))\n",
    "fe = float(input(\"Enter Iron: \"))\n",
    "\n",
    "# tests new data using the SVM classifier\n",
    "new_data = np.array([ri, na, mg, al, si, k, ca, ba, fe])\n",
    "prediction = models[3][1].predict(new_data.reshape(1, -1))\n",
    "\n",
    "# outputs the type of glass\n",
    "print('The type of glass is', glass_types[str(prediction[0])])"
   ]
  },
  {
   "cell_type": "code",
   "execution_count": null,
   "metadata": {},
   "outputs": [],
   "source": [
    "# Inputting the data output to test\n",
    "\n",
    "ri = float(input(\"Enter Refractive Index: \"))\n",
    "na = float(input(\"Enter Sodium: \"))\n",
    "mg = float(input(\"Enter Magnesium: \"))\n",
    "al = float(input(\"Enter Aluminum: \"))\n",
    "si = float(input(\"Enter Silicon: \"))\n",
    "k = float(input(\"Enter Potassium: \"))\n",
    "ca = float(input(\"Enter Calcium: \"))\n",
    "ba = float(input(\"Enter Barium: \"))\n",
    "fe = float(input(\"Enter Iron: \"))\n"
   ]
  },
  {
   "cell_type": "code",
   "execution_count": 22,
   "metadata": {},
   "outputs": [
    {
     "ename": "NameError",
     "evalue": "name 'models' is not defined",
     "output_type": "error",
     "traceback": [
      "\u001b[0;31m---------------------------------------------------------------------------\u001b[0m",
      "\u001b[0;31mNameError\u001b[0m                                 Traceback (most recent call last)",
      "\u001b[0;32m<ipython-input-22-e77d7c87c16c>\u001b[0m in \u001b[0;36m<module>\u001b[0;34m\u001b[0m\n\u001b[1;32m      2\u001b[0m \u001b[0;31m# Testing new data using the SVM classifier\u001b[0m\u001b[0;34m\u001b[0m\u001b[0;34m\u001b[0m\u001b[0;34m\u001b[0m\u001b[0m\n\u001b[1;32m      3\u001b[0m \u001b[0mnew_data\u001b[0m \u001b[0;34m=\u001b[0m \u001b[0mnp\u001b[0m\u001b[0;34m.\u001b[0m\u001b[0marray\u001b[0m\u001b[0;34m(\u001b[0m\u001b[0;34m[\u001b[0m\u001b[0mri\u001b[0m\u001b[0;34m,\u001b[0m \u001b[0mna\u001b[0m\u001b[0;34m,\u001b[0m \u001b[0mmg\u001b[0m\u001b[0;34m,\u001b[0m \u001b[0mal\u001b[0m\u001b[0;34m,\u001b[0m \u001b[0msi\u001b[0m\u001b[0;34m,\u001b[0m \u001b[0mk\u001b[0m\u001b[0;34m,\u001b[0m \u001b[0mca\u001b[0m\u001b[0;34m,\u001b[0m \u001b[0mba\u001b[0m\u001b[0;34m,\u001b[0m \u001b[0mfe\u001b[0m\u001b[0;34m]\u001b[0m\u001b[0;34m)\u001b[0m\u001b[0;34m\u001b[0m\u001b[0;34m\u001b[0m\u001b[0m\n\u001b[0;32m----> 4\u001b[0;31m \u001b[0mprediction\u001b[0m \u001b[0;34m=\u001b[0m \u001b[0mmodels\u001b[0m\u001b[0;34m[\u001b[0m\u001b[0;36m3\u001b[0m\u001b[0;34m]\u001b[0m\u001b[0;34m[\u001b[0m\u001b[0;36m1\u001b[0m\u001b[0;34m]\u001b[0m\u001b[0;34m.\u001b[0m\u001b[0mpredict\u001b[0m\u001b[0;34m(\u001b[0m\u001b[0mnew_data\u001b[0m\u001b[0;34m.\u001b[0m\u001b[0mreshape\u001b[0m\u001b[0;34m(\u001b[0m\u001b[0;36m1\u001b[0m\u001b[0;34m,\u001b[0m \u001b[0;34m-\u001b[0m\u001b[0;36m1\u001b[0m\u001b[0;34m)\u001b[0m\u001b[0;34m)\u001b[0m\u001b[0;34m\u001b[0m\u001b[0;34m\u001b[0m\u001b[0m\n\u001b[0m\u001b[1;32m      5\u001b[0m \u001b[0;34m\u001b[0m\u001b[0m\n\u001b[1;32m      6\u001b[0m \u001b[0;31m# RESULT: Outputting the type of glass!\u001b[0m\u001b[0;34m\u001b[0m\u001b[0;34m\u001b[0m\u001b[0;34m\u001b[0m\u001b[0m\n",
      "\u001b[0;31mNameError\u001b[0m: name 'models' is not defined"
     ]
    }
   ],
   "source": [
    "\n",
    "# Testing new data using the SVM classifier\n",
    "new_data = np.array([ri, na, mg, al, si, k, ca, ba, fe])\n",
    "prediction = models[3][1].predict(new_data.reshape(1, -1))\n",
    "\n",
    "# RESULT: Outputting the type of glass!\n",
    "print('The type of glass is', glass_types[str(prediction[0])])"
   ]
  },
  {
   "cell_type": "code",
   "execution_count": null,
   "metadata": {},
   "outputs": [],
   "source": []
  }
 ],
 "metadata": {
  "kernelspec": {
   "display_name": "Python 3",
   "language": "python",
   "name": "python3"
  },
  "language_info": {
   "codemirror_mode": {
    "name": "ipython",
    "version": 3
   },
   "file_extension": ".py",
   "mimetype": "text/x-python",
   "name": "python",
   "nbconvert_exporter": "python",
   "pygments_lexer": "ipython3",
   "version": "3.7.3"
  }
 },
 "nbformat": 4,
 "nbformat_minor": 2
}
