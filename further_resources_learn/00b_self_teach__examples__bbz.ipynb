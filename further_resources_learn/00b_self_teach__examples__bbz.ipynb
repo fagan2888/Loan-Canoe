{
 "cells": [
  {
   "cell_type": "markdown",
   "metadata": {},
   "source": [
    "### Learning Scripts: My Own Examples Created From Scratch\n",
    "Author: Blake Zenuni, Summer 2019"
   ]
  },
  {
   "cell_type": "markdown",
   "metadata": {},
   "source": [
    "## Importing Libraries"
   ]
  },
  {
   "cell_type": "code",
   "execution_count": 4,
   "metadata": {},
   "outputs": [],
   "source": [
    "import pandas as pd\n",
    "import numpy as np\n",
    "import matplotlib.pyplot as plt\n",
    "import seaborn as sns\n",
    "import math"
   ]
  },
  {
   "cell_type": "markdown",
   "metadata": {},
   "source": [
    "---"
   ]
  },
  {
   "cell_type": "markdown",
   "metadata": {},
   "source": [
    "### Arrays & Array Splicing"
   ]
  },
  {
   "cell_type": "code",
   "execution_count": 5,
   "metadata": {},
   "outputs": [
    {
     "data": {
      "text/plain": [
       "array([[0.45026368, 0.77039632, 0.70973344, 0.60534724, 0.46049754],\n",
       "       [0.88850947, 0.58914841, 0.34652133, 0.35830657, 0.87551106],\n",
       "       [0.15055056, 0.69276661, 0.20554073, 0.88974355, 0.28333477]])"
      ]
     },
     "execution_count": 5,
     "metadata": {},
     "output_type": "execute_result"
    }
   ],
   "source": [
    "# Arrays Learning Cell: I created this learning cell from scratch to practice the basics of arrays.\n",
    "array_learn = np.random.rand(3,5)\n",
    "array_learn"
   ]
  },
  {
   "cell_type": "markdown",
   "metadata": {},
   "source": [
    "==> From the above code and result: numpy generates a ```random array``` -- can be thought of as 3 rows and 5 columns below:')"
   ]
  },
  {
   "cell_type": "code",
   "execution_count": 6,
   "metadata": {},
   "outputs": [
    {
     "data": {
      "text/plain": [
       "array([0.77039632, 0.58914841, 0.69276661])"
      ]
     },
     "execution_count": 6,
     "metadata": {},
     "output_type": "execute_result"
    }
   ],
   "source": [
    "# Arrays Learning Cell:  I created this learning cell from scratch to practice the basics of array slicing.\n",
    "array_splice_learn = array_learn[:,1]\n",
    "array_splice_learn"
   ]
  },
  {
   "cell_type": "markdown",
   "metadata": {},
   "source": [
    "==> Now, the line above performs array splicing: taking all rows (```:```), but keeping the second column (```1```).  \n",
    "*Note:* consider the starting column as 0.  \n",
    "\n",
    "*---*\n"
   ]
  },
  {
   "cell_type": "markdown",
   "metadata": {},
   "source": [
    "\n",
    "***Key take-away:*** The ```[:, :]``` stands for everything from the beginning to the end just like for lists. The difference is that: \n",
    "- the first ```:``` stands for first dimension; \n",
    "- the second ```:``` for the second dimension."
   ]
  },
  {
   "cell_type": "code",
   "execution_count": 11,
   "metadata": {},
   "outputs": [
    {
     "data": {
      "text/plain": [
       "array([[0., 0., 0.],\n",
       "       [0., 0., 0.],\n",
       "       [0., 0., 0.]])"
      ]
     },
     "execution_count": 11,
     "metadata": {},
     "output_type": "execute_result"
    }
   ],
   "source": [
    "# Using numpy to generate a simple array with all zeros zeros:\n",
    "a = np.zeros((3, 3))\n",
    "a"
   ]
  },
  {
   "cell_type": "code",
   "execution_count": 14,
   "metadata": {},
   "outputs": [
    {
     "data": {
      "text/plain": [
       "array([[0., 0., 0.],\n",
       "       [2., 2., 2.],\n",
       "       [0., 0., 0.]])"
      ]
     },
     "execution_count": 14,
     "metadata": {},
     "output_type": "execute_result"
    }
   ],
   "source": [
    "# Assigning to a second row:\n",
    "a[1, :] = 2\n",
    "a"
   ]
  },
  {
   "cell_type": "code",
   "execution_count": 16,
   "metadata": {},
   "outputs": [
    {
     "data": {
      "text/plain": [
       "array([[0., 5., 0.],\n",
       "       [2., 5., 2.],\n",
       "       [0., 5., 0.]])"
      ]
     },
     "execution_count": 16,
     "metadata": {},
     "output_type": "execute_result"
    }
   ],
   "source": [
    "# Assigning to second column:\n",
    "a[:, 1] = 5 \n",
    "a"
   ]
  },
  {
   "cell_type": "code",
   "execution_count": 18,
   "metadata": {},
   "outputs": [
    {
     "data": {
      "text/plain": [
       "array([[9.5, 9.5, 9.5],\n",
       "       [9.5, 9.5, 9.5],\n",
       "       [9.5, 9.5, 9.5]])"
      ]
     },
     "execution_count": 18,
     "metadata": {},
     "output_type": "execute_result"
    }
   ],
   "source": [
    "# Assigning to all:\n",
    "a[:] = 9.5\n",
    "a"
   ]
  },
  {
   "cell_type": "code",
   "execution_count": 23,
   "metadata": {},
   "outputs": [
    {
     "data": {
      "text/plain": [
       "array([[0.77655411, 0.64252142, 0.21064318, 0.49196114, 0.23073579,\n",
       "        0.44426076, 0.94811997, 0.17149906, 0.82005486, 0.51275887,\n",
       "        0.25422378, 0.71672238, 0.79136025, 0.69469163, 0.23523833,\n",
       "        0.34859293, 0.80963155, 0.7559314 , 0.17213487, 0.21525235,\n",
       "        0.88480806, 0.37962731],\n",
       "       [0.20154711, 0.85810788, 0.86430273, 0.60440396, 0.1212748 ,\n",
       "        0.858235  , 0.45739626, 0.67623979, 0.56936738, 0.22856182,\n",
       "        0.24770297, 0.3538948 , 0.08523189, 0.44767197, 0.3123485 ,\n",
       "        0.72982146, 0.90978973, 0.89082631, 0.28768168, 0.77633859,\n",
       "        0.47373284, 0.75208125],\n",
       "       [0.85324364, 0.83717896, 0.98869259, 0.5165235 , 0.98959553,\n",
       "        0.79193982, 0.08529625, 0.36716487, 0.57099471, 0.21957437,\n",
       "        0.86470529, 0.0416707 , 0.21736778, 0.3190769 , 0.75008241,\n",
       "        0.31008745, 0.59301333, 0.83537566, 0.30742659, 0.49455174,\n",
       "        0.69368009, 0.05855779],\n",
       "       [0.49864703, 0.16644285, 0.22836004, 0.15042672, 0.65205106,\n",
       "        0.2091535 , 0.76765433, 0.31134716, 0.32392299, 0.86084986,\n",
       "        0.12531005, 0.00942195, 0.71720662, 0.4083557 , 0.71858955,\n",
       "        0.33584524, 0.96599306, 0.46571285, 0.59410926, 0.31369595,\n",
       "        0.22432314, 0.31479601],\n",
       "       [0.55797537, 0.07960435, 0.21433701, 0.12325182, 0.20350882,\n",
       "        0.63646143, 0.39486132, 0.17141096, 0.68696489, 0.18446025,\n",
       "        0.11800523, 0.88189032, 0.44615895, 0.29470742, 0.59114889,\n",
       "        0.78429479, 0.03821035, 0.72457767, 0.65917206, 0.05481316,\n",
       "        0.52892447, 0.52021909]])"
      ]
     },
     "execution_count": 23,
     "metadata": {},
     "output_type": "execute_result"
    }
   ],
   "source": [
    "# some random example:\n",
    "a = np.random.rand(5,22)\n",
    "a\n"
   ]
  },
  {
   "cell_type": "code",
   "execution_count": 24,
   "metadata": {},
   "outputs": [
    {
     "data": {
      "text/plain": [
       "array([[0.94811997, 0.17149906, 0.82005486, 0.51275887, 0.25422378],\n",
       "       [0.45739626, 0.67623979, 0.56936738, 0.22856182, 0.24770297],\n",
       "       [0.08529625, 0.36716487, 0.57099471, 0.21957437, 0.86470529],\n",
       "       [0.76765433, 0.31134716, 0.32392299, 0.86084986, 0.12531005],\n",
       "       [0.39486132, 0.17141096, 0.68696489, 0.18446025, 0.11800523]])"
      ]
     },
     "execution_count": 24,
     "metadata": {},
     "output_type": "execute_result"
    }
   ],
   "source": [
    "# some random example, getting complicated with splicing\n",
    "\n",
    "b = a[:,6:11]\n",
    "b"
   ]
  },
  {
   "cell_type": "markdown",
   "metadata": {},
   "source": [
    "==> *Result*: So what did the line above do... well, it created a new array from the previous array by => (i) taking all rows, (ii) but skipping the columns 0 through 5, starting on the 6th, *and* (ii) go all the way to last column before 11!"
   ]
  },
  {
   "cell_type": "markdown",
   "metadata": {},
   "source": [
    "*---*"
   ]
  },
  {
   "cell_type": "markdown",
   "metadata": {},
   "source": [
    "***Key take-away:*** Numpy uses tuples as indexes. In this case, this is a detailed slice assignement. Here is are some coding tips:\n",
    "\n",
    "- note: column counter begins at 0 for the fist column in a numpy array (not at 1);\n",
    "- ```[0]``` ==> means line 0 of your matrix;\n",
    "- ```[(0,0)]``` ==> means cell at 0,0 of your matrix;\n",
    "- ```[0:1]``` ==> means lines 0 to 1 excluded of your matrix;\n",
    "- ```[:1]``` ==> excluding the first value means all lines until line 1 excluded;\n",
    "- ```[1:]``` ==> excluding the last param mean all lines starting form line 1 included;\n",
    "- ```[:]``` ==> excluding both means all lines;\n",
    "- ```[::2]``` ==> #the addition of a second ':' is the sampling. (1 item every 2);\n",
    "- ```[::]``` ==> exluding it means a sampling of 1;\n",
    "- ```[:,:]``` ==> simply uses a tuple (a single , represents an empty tuple) instead of an index.\n",
    "\n",
    "**Further Resources**:  \n",
    "(1) https://stackoverflow.com/questions/16815928/what-does-mean-on-numpy-arrays/16816142  \n",
    "(2) https://scipy-lectures.org/intro/numpy/array_object.html"
   ]
  },
  {
   "cell_type": "markdown",
   "metadata": {},
   "source": [
    "---"
   ]
  },
  {
   "cell_type": "code",
   "execution_count": null,
   "metadata": {},
   "outputs": [],
   "source": []
  }
 ],
 "metadata": {
  "kernelspec": {
   "display_name": "Python 3",
   "language": "python",
   "name": "python3"
  },
  "language_info": {
   "codemirror_mode": {
    "name": "ipython",
    "version": 3
   },
   "file_extension": ".py",
   "mimetype": "text/x-python",
   "name": "python",
   "nbconvert_exporter": "python",
   "pygments_lexer": "ipython3",
   "version": "3.7.3"
  }
 },
 "nbformat": 4,
 "nbformat_minor": 2
}
