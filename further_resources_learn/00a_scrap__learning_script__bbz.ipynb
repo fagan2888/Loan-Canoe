{
 "cells": [
  {
   "cell_type": "code",
   "execution_count": 1,
   "metadata": {},
   "outputs": [
    {
     "name": "stdin",
     "output_type": "stream",
     "text": [
      "\n",
      "\n",
      "Press the enter key to exit. \n"
     ]
    },
    {
     "data": {
      "text/plain": [
       "''"
      ]
     },
     "execution_count": 1,
     "metadata": {},
     "output_type": "execute_result"
    }
   ],
   "source": [
    "# The built-in input function\n",
    "\n",
    "input(\"\\n\\nPress the enter key to exit.\")"
   ]
  },
  {
   "cell_type": "markdown",
   "metadata": {},
   "source": [
    "---"
   ]
  },
  {
   "cell_type": "code",
   "execution_count": null,
   "metadata": {},
   "outputs": [],
   "source": [
    "# Creating engines for server connections (note: this is just an example with no server info added):\n",
    "\n",
    "cnx = create_engine('postgresql://'+os.environ['POSTGRESQL_USER']+':'\n",
    "                      +os.environ['POSTGRESQL_PASSWORD']+'@'\n",
    "                      +os.environ['POSTGRESQL_HOST_IP']+':'+os.environ['POSTGRESQL_PORT']\n",
    "                      +'/'+os.environ['POSTGRESQL_DATABASE'],echo=False)"
   ]
  },
  {
   "cell_type": "markdown",
   "metadata": {},
   "source": [
    "---"
   ]
  },
  {
   "cell_type": "code",
   "execution_count": 11,
   "metadata": {},
   "outputs": [
    {
     "name": "stdin",
     "output_type": "stream",
     "text": [
      "enter first number:  5\n",
      "enter second number:  10\n"
     ]
    },
    {
     "name": "stdout",
     "output_type": "stream",
     "text": [
      "sum: 15\n"
     ]
    }
   ],
   "source": [
    "# Python Program to Add Two Numbers Using Input\n",
    "\n",
    "a = int(input(\"enter first number: \"))\n",
    "b = int(input(\"enter second number: \"))\n",
    "c = a+ b\n",
    "\n",
    "print(\"sum:\", sum)"
   ]
  }
 ],
 "metadata": {
  "kernelspec": {
   "display_name": "Python 3",
   "language": "python",
   "name": "python3"
  },
  "language_info": {
   "codemirror_mode": {
    "name": "ipython",
    "version": 3
   },
   "file_extension": ".py",
   "mimetype": "text/x-python",
   "name": "python",
   "nbconvert_exporter": "python",
   "pygments_lexer": "ipython3",
   "version": "3.7.3"
  }
 },
 "nbformat": 4,
 "nbformat_minor": 2
}
