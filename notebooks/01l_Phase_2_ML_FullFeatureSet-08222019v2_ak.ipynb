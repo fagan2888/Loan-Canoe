{
 "cells": [
  {
   "cell_type": "markdown",
   "metadata": {},
   "source": [
    "**This script takes the best models and features from Phase 1 of the model selection process and undertakes a deeper dive in reviewing/selecting the optimal models.  It also adapts wrangling steps to a Pipeline.**\n",
    "\n",
    "To-Do:\n",
    "- Use balanced sample of 50K observations DONE\n",
    "- Align features across scripts DONE for outcome variable - PENDING for features\n",
    "- Substitute dummies for label encoding, create a pipeline DONE except for two where I need guarateed \"1\" values\n",
    "- Add CV; randomize splits\n",
    "- Review validation curve, precision versus recall\n",
    "- Robustness checks for county_type versus MSA binary\n",
    "- Holdout sets\n",
    "- Review learning curve\n",
    "- Grid search\n",
    "- Analyses on all years"
   ]
  },
  {
   "cell_type": "code",
   "execution_count": 17,
   "metadata": {},
   "outputs": [],
   "source": [
    "%matplotlib inline\n",
    "\n",
    "import os\n",
    "import time\n",
    "import pickle\n",
    "import numpy as np\n",
    "import pandas as pd\n",
    "\n",
    "import matplotlib.pyplot as plt\n",
    "\n",
    "from sklearn.exceptions import NotFittedError\n",
    "from sklearn.base import BaseEstimator, TransformerMixin, clone\n",
    "from sklearn import metrics\n",
    "\n",
    "from sklearn.model_selection import KFold #ensure allows for randomization\n",
    "from sklearn.model_selection import train_test_split as tts #drop this if using KFold\n",
    "\n",
    "from sklearn.svm import LinearSVC, NuSVC, SVC\n",
    "from sklearn.naive_bayes import BernoulliNB\n",
    "from sklearn import tree\n",
    "from sklearn.discriminant_analysis import LinearDiscriminantAnalysis\n",
    "from sklearn.linear_model import LogisticRegression\n",
    "from sklearn.ensemble import RandomForestClassifier\n",
    "from sklearn.ensemble import GradientBoostingClassifier\n",
    "\n",
    "from sklearn.impute import SimpleImputer\n",
    "from sklearn.compose import ColumnTransformer\n",
    "from sklearn.pipeline import Pipeline, FeatureUnion\n",
    "from sklearn.preprocessing import OneHotEncoder, LabelEncoder\n",
    "\n",
    "from yellowbrick.classifier import ClassificationReport"
   ]
  },
  {
   "cell_type": "markdown",
   "metadata": {},
   "source": [
    "**Import 2017 sample of 50,000 observations, balanced across the two outcome classes.**"
   ]
  },
  {
   "cell_type": "code",
   "execution_count": 2,
   "metadata": {
    "scrolled": true
   },
   "outputs": [],
   "source": [
    "filepath = os.path.abspath(os.path.join( \"..\", \"fixtures\", \"hmda2017sample_balanced.csv\"))\n",
    "DATA = pd.read_csv(filepath, low_memory=False)"
   ]
  },
  {
   "cell_type": "markdown",
   "metadata": {},
   "source": [
    "**Data Preparation:** Create binary fields for MSA and Outcome of Interest to ensure I have consistent assignment of 1's and 0's. Fill missing values for applicant_income_000s."
   ]
  },
  {
   "cell_type": "code",
   "execution_count": 3,
   "metadata": {},
   "outputs": [],
   "source": [
    "DATA['locality_type'] = None\n",
    "cloc = DATA.columns.get_loc('locality_type')\n",
    "i = 0\n",
    "for x in DATA['msamd_name'].isna():\n",
    "    if x == True:\n",
    "        DATA.iat[i, cloc]= 0\n",
    "        \n",
    "    else: \n",
    "        DATA.iat[i, cloc]= 1\n",
    "        \n",
    "    i+=1\n",
    "        \n",
    "DATA['locality_type'] = DATA['locality_type'].astype('int64')\n",
    "\n",
    "DATA['action_taken'] = DATA.action_taken_name.apply(lambda x: 1 if x in ['Loan purchased by the institution', 'Loan originated'] else 0)\n",
    "\n",
    "DATA['applicant_income_000s'].fillna(DATA.hud_median_family_income.median(), inplace=True)\n"
   ]
  },
  {
   "cell_type": "code",
   "execution_count": 4,
   "metadata": {},
   "outputs": [],
   "source": [
    "class IdentityTransformer(BaseEstimator, TransformerMixin):\n",
    "    \n",
    "    def fit(self, X, y=None):\n",
    "        return self\n",
    "\n",
    "    def transform(self, X, y=None):\n",
    "        return X"
   ]
  },
  {
   "cell_type": "code",
   "execution_count": 5,
   "metadata": {},
   "outputs": [],
   "source": [
    "X = DATA[[col for col in DATA.columns if col != 'action_taken']].drop(DATA.columns[0], axis=1)\n",
    "y = DATA['action_taken']\n",
    "#target_encoder = LabelEncoder()\n",
    "#y = target_encoder.fit_transform(DATA['action_taken'])\n",
    "\n",
    "remove = ['rate_spread', \n",
    "        'sequence_number', \n",
    "        'respondent_id',\n",
    "        'state_name',\n",
    "        'state_abbr',\n",
    "        'county_name',\n",
    "        'edit_status_name', \n",
    "        'denial_reason_name_3', \n",
    "        'denial_reason_name_2', \n",
    "        'denial_reason_name_1', \n",
    "        'co_applicant_race_name_5', \n",
    "        'co_applicant_race_name_4', \n",
    "        'co_applicant_race_name_3', \n",
    "        'co_applicant_race_name_2',\n",
    "        'census_tract_number',\n",
    "        'application_date_indicator', \n",
    "        'applicant_race_name_5', \n",
    "        'applicant_race_name_4', \n",
    "        'applicant_race_name_3', \n",
    "        'applicant_race_name_2', \n",
    "        'agency_name',\n",
    "        'action_taken_name', \n",
    "        'msamd_name']\n",
    "\n",
    "int_float = ['tract_to_msamd_income', \n",
    "            'population', \n",
    "            'minority_population', \n",
    "            'number_of_owner_occupied_units', \n",
    "            'number_of_1_to_4_family_units', \n",
    "            'loan_amount_000s', \n",
    "            'hud_median_family_income', \n",
    "            'applicant_income_000s',\n",
    "            'locality_type']\n",
    "\n",
    "categorical = ['purchaser_type_name', \n",
    "            'property_type_name', \n",
    "            'preapproval_name',\n",
    "            'owner_occupancy_name', \n",
    "            'loan_type_name', \n",
    "            'loan_purpose_name',\n",
    "            'lien_status_name', \n",
    "            'hoepa_status_name', \n",
    "            'co_applicant_sex_name',\n",
    "            'co_applicant_race_name_1', \n",
    "            'co_applicant_ethnicity_name', \n",
    "            'as_of_year',\n",
    "            'applicant_sex_name', \n",
    "            'applicant_race_name_1',\n",
    "            'applicant_ethnicity_name', \n",
    "            'agency_abbr']\n"
   ]
  },
  {
   "cell_type": "code",
   "execution_count": 6,
   "metadata": {},
   "outputs": [],
   "source": [
    "extractor = ColumnTransformer([\n",
    "    ('encoder', Pipeline([\n",
    "        ('onehot', OneHotEncoder(categories='auto')),\n",
    "    ]), categorical),\n",
    "    ('dropper', ColumnTransformer([\n",
    "        ('drop', 'drop', remove),\n",
    "        ('keep', 'passthrough', int_float),\n",
    "    ]), int_float+remove),\n",
    "])"
   ]
  },
  {
   "cell_type": "code",
   "execution_count": 8,
   "metadata": {},
   "outputs": [
    {
     "data": {
      "text/plain": [
       "(50000, 81)"
      ]
     },
     "execution_count": 8,
     "metadata": {},
     "output_type": "execute_result"
    }
   ],
   "source": [
    "extractor.fit_transform(X, y).shape"
   ]
  },
  {
   "cell_type": "code",
   "execution_count": 9,
   "metadata": {},
   "outputs": [],
   "source": [
    "X_train, X_test, y_train, y_test = tts(X, y, test_size=0.2)"
   ]
  },
  {
   "cell_type": "code",
   "execution_count": 14,
   "metadata": {},
   "outputs": [
    {
     "name": "stderr",
     "output_type": "stream",
     "text": [
      "C:\\Users\\akx00\\Anaconda3\\lib\\site-packages\\sklearn\\linear_model\\logistic.py:433: FutureWarning: Default solver will be changed to 'lbfgs' in 0.22. Specify a solver to silence this warning.\n",
      "  FutureWarning)\n"
     ]
    },
    {
     "data": {
      "image/png": "[encoded data removed]",
      "text/plain": [
       "<Figure size 600x360 with 2 Axes>"
      ]
     },
     "metadata": {
      "needs_background": "light"
     },
     "output_type": "display_data"
    },
    {
     "data": {
      "text/plain": [
       "0.905"
      ]
     },
     "execution_count": 14,
     "metadata": {},
     "output_type": "execute_result"
    }
   ],
   "source": [
    "def score_model(clf):\n",
    "\n",
    "    model = Pipeline([\n",
    "        ('extract', clone(extractor)),\n",
    "        ('clf', clone(clf)),\n",
    "    ])\n",
    "\n",
    "    cr = ClassificationReport(model, classes=[1,0], cmap=\"Blues\", size=(600, 360)).fit(X_train, y_train)  \n",
    "    score = cr.score(X_test, y_test)\n",
    "    cr.poof()\n",
    "    return score\n",
    "\n",
    "\n",
    "score_model(LogisticRegression(max_iter=6000))"
   ]
  },
  {
   "cell_type": "code",
   "execution_count": 12,
   "metadata": {},
   "outputs": [
    {
     "data": {
      "image/png": "[encoded data removed]",
      "text/plain": [
       "<Figure size 600x360 with 2 Axes>"
      ]
     },
     "metadata": {
      "needs_background": "light"
     },
     "output_type": "display_data"
    },
    {
     "data": {
      "text/plain": [
       "0.8929"
      ]
     },
     "execution_count": 12,
     "metadata": {},
     "output_type": "execute_result"
    }
   ],
   "source": [
    "score_model(BernoulliNB())"
   ]
  },
  {
   "cell_type": "code",
   "execution_count": 13,
   "metadata": {},
   "outputs": [
    {
     "name": "stderr",
     "output_type": "stream",
     "text": [
      "C:\\Users\\akx00\\Anaconda3\\lib\\site-packages\\sklearn\\discriminant_analysis.py:388: UserWarning: Variables are collinear.\n",
      "  warnings.warn(\"Variables are collinear.\")\n"
     ]
    },
    {
     "data": {
      "image/png": "[encoded data removed]",
      "text/plain": [
       "<Figure size 600x360 with 2 Axes>"
      ]
     },
     "metadata": {
      "needs_background": "light"
     },
     "output_type": "display_data"
    },
    {
     "data": {
      "text/plain": [
       "0.8807"
      ]
     },
     "execution_count": 13,
     "metadata": {},
     "output_type": "execute_result"
    }
   ],
   "source": [
    "score_model(LinearDiscriminantAnalysis())"
   ]
  },
  {
   "cell_type": "code",
   "execution_count": 15,
   "metadata": {},
   "outputs": [
    {
     "data": {
      "image/png": "[encoded data removed]",
      "text/plain": [
       "<Figure size 600x360 with 2 Axes>"
      ]
     },
     "metadata": {
      "needs_background": "light"
     },
     "output_type": "display_data"
    },
    {
     "data": {
      "text/plain": [
       "0.9101"
      ]
     },
     "execution_count": 15,
     "metadata": {},
     "output_type": "execute_result"
    }
   ],
   "source": [
    "score_model(RandomForestClassifier(n_estimators=100))"
   ]
  },
  {
   "cell_type": "code",
   "execution_count": 20,
   "metadata": {},
   "outputs": [
    {
     "name": "stderr",
     "output_type": "stream",
     "text": [
      "C:\\Users\\akx00\\Anaconda3\\lib\\site-packages\\sklearn\\svm\\base.py:196: FutureWarning: The default value of gamma will change from 'auto' to 'scale' in version 0.22 to account better for unscaled features. Set gamma explicitly to 'auto' or 'scale' to avoid this warning.\n",
      "  \"avoid this warning.\", FutureWarning)\n",
      "C:\\Users\\akx00\\Anaconda3\\lib\\site-packages\\sklearn\\svm\\base.py:244: ConvergenceWarning: Solver terminated early (max_iter=10000).  Consider pre-processing your data with StandardScaler or MinMaxScaler.\n",
      "  % self.max_iter, ConvergenceWarning)\n"
     ]
    },
    {
     "data": {
      "image/png": "[encoded data removed]",
      "text/plain": [
       "<Figure size 600x360 with 2 Axes>"
      ]
     },
     "metadata": {
      "needs_background": "light"
     },
     "output_type": "display_data"
    },
    {
     "data": {
      "text/plain": [
       "0.5172"
      ]
     },
     "execution_count": 20,
     "metadata": {},
     "output_type": "execute_result"
    }
   ],
   "source": [
    "score_model(SVC(max_iter=10000))"
   ]
  }
 ],
 "metadata": {
  "kernelspec": {
   "display_name": "Python 3",
   "language": "python",
   "name": "python3"
  },
  "language_info": {
   "codemirror_mode": {
    "name": "ipython",
    "version": 3
   },
   "file_extension": ".py",
   "mimetype": "text/x-python",
   "name": "python",
   "nbconvert_exporter": "python",
   "pygments_lexer": "ipython3",
   "version": "3.7.3"
  }
 },
 "nbformat": 4,
 "nbformat_minor": 1
}
