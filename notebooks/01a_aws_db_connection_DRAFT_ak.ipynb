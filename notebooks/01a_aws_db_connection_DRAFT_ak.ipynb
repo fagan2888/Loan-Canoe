{
 "cells": [
  {
   "cell_type": "markdown",
   "metadata": {},
   "source": [
    "This is a draft notebook that interacts with a PostgreSQL Database sitting in AWS.  The key thing I had to do with Amazon RDS was set Public Accessibility = Yes, and then edit inbound traffic under the Security Rules to whitelist the relevant IP address. This article hit on the basic points and then I figured out how to do this in AWS RDS/EC2.\n",
    "https://aws.amazon.com/getting-started/tutorials/create-connect-postgresql-db/\n",
    "\n",
    "In future code refinements:\n",
    "    Run Queries and execute SQL statements against the data, interact with Pandas and NumPy\n",
    "    encapsulate connect() as a function with an .ini file: http://www.postgresqltutorial.com/postgresql-python/connect/"
   ]
  },
  {
   "cell_type": "code",
   "execution_count": null,
   "metadata": {},
   "outputs": [],
   "source": [
    "import os\n",
    "import psycopg2"
   ]
  },
  {
   "cell_type": "code",
   "execution_count": null,
   "metadata": {},
   "outputs": [],
   "source": [
    "#conn = psycopg2.connect(host=\"put in host name for amazon db instance here\",database=\"postgres\", user=\"postgres\", password=\"put your aws db password here\", port=\"put port here\")\n",
    "#cur = conn.cursor()\n",
    "#path = \"put filepath here\""
   ]
  },
  {
   "cell_type": "code",
   "execution_count": null,
   "metadata": {},
   "outputs": [],
   "source": [
    "print('PostgreSQL database version:')\n",
    "cur.execute('SELECT version();')\n",
    "# display the PostgreSQL database server version\n",
    "db_version = cur.fetchone()\n",
    "print(db_version)"
   ]
  },
  {
   "cell_type": "code",
   "execution_count": null,
   "metadata": {},
   "outputs": [],
   "source": [
    "print('Current database connection:')\n",
    "cur.execute('SELECT current_database();')\n",
    "current_db = cur.fetchone()\n",
    "print(current_db)"
   ]
  },
  {
   "cell_type": "code",
   "execution_count": null,
   "metadata": {},
   "outputs": [],
   "source": [
    "cur.execute('DROP TABLE IF EXISTS mortgages;')"
   ]
  },
  {
   "cell_type": "code",
   "execution_count": null,
   "metadata": {},
   "outputs": [],
   "source": [
    "mortgage_table_setup = '''\n",
    "CREATE TABLE mortgages(\n",
    "tract_to_msamd_income NUMERIC,\n",
    "rate_spread VARCHAR(254),\n",
    "population INT,\n",
    "minority_population NUMERIC,\n",
    "number_of_owner_occupied_units INT,\n",
    "number_of_1_to_4_family_units INT,\n",
    "loan_amount_000s INT,\n",
    "hud_median_family_income INT,\n",
    "applicant_income_000s INT,\n",
    "state_name VARCHAR(254),\n",
    "state_abbr CHAR(2),\n",
    "sequence_number VARCHAR(254),\n",
    "respondent_id VARCHAR(254),\n",
    "purchaser_type_name VARCHAR(254),\n",
    "property_type_name VARCHAR(254),\n",
    "preapproval_name VARCHAR(254),\n",
    "owner_occupancy_name VARCHAR(254),\n",
    "msamd_name VARCHAR(254),\n",
    "loan_type_name VARCHAR(254),\n",
    "loan_purpose_name VARCHAR(254),\n",
    "lien_status_name VARCHAR(254),\n",
    "hoepa_status_name VARCHAR(254),\n",
    "edit_status_name VARCHAR(254),\n",
    "denial_reason_name_3 VARCHAR(254),\n",
    "denial_reason_name_2 VARCHAR(254),\n",
    "denial_reason_name_1 VARCHAR(254),\n",
    "county_name VARCHAR(254),\n",
    "co_applicant_sex_name VARCHAR(254),\n",
    "co_applicant_race_name_5 VARCHAR(254),\n",
    "co_applicant_race_name_4 VARCHAR(254),\n",
    "co_applicant_race_name_3 VARCHAR(254),\n",
    "co_applicant_race_name_2 VARCHAR(254),\n",
    "co_applicant_race_name_1 VARCHAR(254),\n",
    "co_applicant_ethnicity_name VARCHAR(254),\n",
    "census_tract_number FLOAT,\n",
    "as_of_year INT,\n",
    "application_date_indicator VARCHAR(254),\n",
    "applicant_sex_name VARCHAR(254),\n",
    "applicant_race_name_5 VARCHAR(254),\n",
    "applicant_race_name_4 VARCHAR(254),\n",
    "applicant_race_name_3 VARCHAR(254),\n",
    "applicant_race_name_2 VARCHAR(254),\n",
    "applicant_race_name_1 VARCHAR(254),\n",
    "applicant_ethnicity_name VARCHAR(254),\n",
    "agency_name VARCHAR(254),\n",
    "agency_abbr VARCHAR(254),\n",
    "action_taken_name VARCHAR(254),\n",
    ");'''"
   ]
  },
  {
   "cell_type": "code",
   "execution_count": null,
   "metadata": {},
   "outputs": [],
   "source": [
    "cur.execute(mortgage_table_setup)"
   ]
  },
  {
   "cell_type": "code",
   "execution_count": null,
   "metadata": {},
   "outputs": [],
   "source": [
    "show_tables= '''SELECT\n",
    "   *\n",
    "FROM\n",
    "   pg_catalog.pg_tables\n",
    "WHERE\n",
    "   schemaname != 'pg_catalog'\n",
    "AND schemaname != 'information_schema';'''"
   ]
  },
  {
   "cell_type": "code",
   "execution_count": null,
   "metadata": {},
   "outputs": [],
   "source": [
    "print('Current tables:')\n",
    "cur.execute(show_tables)\n",
    "current_tables = cur.fetchone()\n",
    "print(current_tables)"
   ]
  },
  {
   "cell_type": "code",
   "execution_count": null,
   "metadata": {},
   "outputs": [],
   "source": [
    "cur.fetchone()"
   ]
  },
  {
   "cell_type": "code",
   "execution_count": null,
   "metadata": {},
   "outputs": [],
   "source": [
    "conn.commit()"
   ]
  },
  {
   "cell_type": "code",
   "execution_count": null,
   "metadata": {},
   "outputs": [],
   "source": [
    "cur.close()\n",
    "conn.close()"
   ]
  }
 ],
 "metadata": {
  "kernelspec": {
   "display_name": "Python 3",
   "language": "python",
   "name": "python3"
  },
  "language_info": {
   "codemirror_mode": {
    "name": "ipython",
    "version": 3
   },
   "file_extension": ".py",
   "mimetype": "text/x-python",
   "name": "python",
   "nbconvert_exporter": "python",
   "pygments_lexer": "ipython3",
   "version": "3.7.3"
  }
 },
 "nbformat": 4,
 "nbformat_minor": 2
}
