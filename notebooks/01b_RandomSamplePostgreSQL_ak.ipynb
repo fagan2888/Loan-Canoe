{
 "cells": [
  {
   "cell_type": "markdown",
   "metadata": {},
   "source": [
    "**Pull a Random Sample of Instances from PostgreSQL Database Table**\n",
    "\n",
    "This file samples 25,000 instances of the 2017 HMDA Data Set (All Records) to inform initial models."
   ]
  },
  {
   "cell_type": "code",
   "execution_count": null,
   "metadata": {},
   "outputs": [],
   "source": [
    "import os\n",
    "import pandas as pd\n",
    "import psycopg2"
   ]
  },
  {
   "cell_type": "markdown",
   "metadata": {},
   "source": [
    "**Instantiate the connection and cursor objects using the PostgreSQL database of your choice,then verify the database and tables in the database.**"
   ]
  },
  {
   "cell_type": "code",
   "execution_count": null,
   "metadata": {},
   "outputs": [],
   "source": [
    "con = psycopg2.connect(host=\"\",database=\"\", user=\"\", password=\"\", port=\"5432\")\n",
    "cur = con.cursor()"
   ]
  },
  {
   "cell_type": "code",
   "execution_count": null,
   "metadata": {},
   "outputs": [],
   "source": [
    "print('Current database connection:')\n",
    "cur.execute('SELECT current_database();')\n",
    "current_db = cur.fetchone()\n",
    "print(current_db)"
   ]
  },
  {
   "cell_type": "code",
   "execution_count": null,
   "metadata": {},
   "outputs": [],
   "source": [
    "cur.execute(\"\"\"SELECT table_name FROM information_schema.tables WHERE table_schema = 'public'\"\"\")\n",
    "for table in cur.fetchall():\n",
    "    print(table)"
   ]
  },
  {
   "cell_type": "markdown",
   "metadata": {},
   "source": [
    "**Read query result into a pandas dataframe to call the decribe() method.**\n",
    "Use \"ORDER BY RANDOM()\" in PostgreSQL to pull a random sample of instances."
   ]
  },
  {
   "cell_type": "code",
   "execution_count": null,
   "metadata": {},
   "outputs": [],
   "source": [
    "query_statement = \"SELECT * FROM hmda_lar_2017_allrecords ORDER BY RANDOM() LIMIT 25000;\"\n",
    "df = pd.read_sql_query(query_statement, con)"
   ]
  },
  {
   "cell_type": "code",
   "execution_count": null,
   "metadata": {},
   "outputs": [],
   "source": [
    "df.describe(include='all')"
   ]
  },
  {
   "cell_type": "markdown",
   "metadata": {},
   "source": [
    "**Write DataFrame to CSV and close PostgreSQL cursor and connection objects.**"
   ]
  },
  {
   "cell_type": "code",
   "execution_count": null,
   "metadata": {},
   "outputs": [],
   "source": [
    "filepath = os.path.abspath(os.path.join( \"..\", \"fixtures\", \"hmda2017sample.csv\"))\n",
    "df.to_csv(filepath)\n",
    "cur.close()\n",
    "con.close()"
   ]
  }
 ],
 "metadata": {
  "kernelspec": {
   "display_name": "Python 3",
   "language": "python",
   "name": "python3"
  },
  "language_info": {
   "codemirror_mode": {
    "name": "ipython",
    "version": 3
   },
   "file_extension": ".py",
   "mimetype": "text/x-python",
   "name": "python",
   "nbconvert_exporter": "python",
   "pygments_lexer": "ipython3",
   "version": "3.7.3"
  }
 },
 "nbformat": 4,
 "nbformat_minor": 2
}
