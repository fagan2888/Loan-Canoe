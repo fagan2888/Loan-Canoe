{
 "cells": [
  {
   "cell_type": "markdown",
   "metadata": {},
   "source": [
    "This is a draft script to ingest 2017 Home Mortgage Disclosure Act (HMDA) data from a CSV file into a pandas dataframe, then subsequently explore the data and do some basic wrangling.  Future drafts will generate descriptive statistics and create more refined visualizations (also, examine why the CSV appears to have missing data in mandatory fields).\n",
    "\n",
    "The key issue I had to address was the HMDA data set's unique \"sentinel values\" for missing values (including \" \") as part of the CSV download (details below).  The most efficient solution I am finding is to read the data in as a pandas dataframe.  As a test value, df['applicant_income_000s'][44] then results in NaN and not \" \".\n",
    "\n",
    "An ongoing issue we continue to research is how to optimize performance for running scripts against such a large data set.  This will be further researched in July.\n",
    "\n",
    "***Information on Data Source***\n",
    "\n",
    "Download from this link: https://www.consumerfinance.gov/data-research/hmda/explore\n",
    "Select year(s) of data: 2017\n",
    "Select Suggested Filters: \"All records\"\n",
    "Time Stamp of Download: July 7 2019, 5:45 PM EDT\n",
    "Website states \"There are 14,285,496 HMDA records from 2017.\"\n",
    "\n",
    "NOTE: Due to memory limits on my local PC, I am working with 2017 data for one state (TX), to start.  This cut of data has 1,148,206 records.\n",
    "\n",
    "***Reference Links***\n",
    "\n",
    "\"A Guide to Home Mortgage Disclosure Act Data\" http://nowdata.cinow.info/media/uploads/2011/10/7/92.pdf\n",
    "\n",
    "https://jakevdp.github.io/PythonDataScienceHandbook/03.04-missing-values.html\n",
    "\n",
    "https://stackoverflow.com/questions/24251219/pandas-read-csv-low-memory-and-dtype-options"
   ]
  },
  {
   "cell_type": "code",
   "execution_count": null,
   "metadata": {},
   "outputs": [],
   "source": [
    "import os\n",
    "import pandas as pd\n",
    "import matplotlib.pyplot as plt\n",
    "import seaborn as sns\n",
    "\n",
    "%matplotlib inline"
   ]
  },
  {
   "cell_type": "markdown",
   "metadata": {},
   "source": [
    "Setting option to suppress scientific notation in output (such as describe function)\n",
    "See also: https://twitter.com/vboykis/status/474241498754461696?lang=en"
   ]
  },
  {
   "cell_type": "code",
   "execution_count": null,
   "metadata": {},
   "outputs": [],
   "source": [
    "pd.set_option('display.float_format', lambda x: '%.3f' % x)"
   ]
  },
  {
   "cell_type": "code",
   "execution_count": null,
   "metadata": {},
   "outputs": [],
   "source": [
    "#path = 'add path here'"
   ]
  },
  {
   "cell_type": "code",
   "execution_count": null,
   "metadata": {},
   "outputs": [],
   "source": [
    "sourcedata = '%shmda_lar_test2.csv' % (path)\n",
    "print(sourcedata)"
   ]
  },
  {
   "cell_type": "code",
   "execution_count": null,
   "metadata": {},
   "outputs": [],
   "source": [
    "df = pd.read_csv(sourcedata, low_memory=False)"
   ]
  },
  {
   "cell_type": "code",
   "execution_count": null,
   "metadata": {},
   "outputs": [],
   "source": [
    "df.describe(include = 'all')"
   ]
  },
  {
   "cell_type": "code",
   "execution_count": null,
   "metadata": {},
   "outputs": [],
   "source": [
    "df.info()"
   ]
  },
  {
   "cell_type": "code",
   "execution_count": null,
   "metadata": {
    "scrolled": true
   },
   "outputs": [],
   "source": [
    "df.head(n=10)"
   ]
  },
  {
   "cell_type": "markdown",
   "metadata": {},
   "source": [
    "We anticipate the project's key dependent variable will be action_taken_name:"
   ]
  },
  {
   "cell_type": "code",
   "execution_count": null,
   "metadata": {},
   "outputs": [],
   "source": [
    "df.groupby('action_taken_name').count()"
   ]
  },
  {
   "cell_type": "markdown",
   "metadata": {},
   "source": [
    "One consideration with Pandas and NumPy relates to handling of Null values. I had to remove null values before trying to generate visualizations.\n",
    "\n",
    "Reference Links: \n",
    "https://stackoverflow.com/questions/34955158/what-might-be-the-cause-of-invalid-value-encountered-in-less-equal-in-numpy\n",
    "https://helpful.knobs-dials.com/index.php/Python_usage_notes_-_Numpy,_scipy"
   ]
  },
  {
   "cell_type": "code",
   "execution_count": null,
   "metadata": {},
   "outputs": [],
   "source": [
    "subset_df = df[['loan_amount_000s','applicant_income_000s']].dropna()\n",
    "subset_df = subset_df[ (subset_df['loan_amount_000s']<20000) & (subset_df['applicant_income_000s']<40000) ]"
   ]
  },
  {
   "cell_type": "code",
   "execution_count": null,
   "metadata": {},
   "outputs": [],
   "source": [
    "g = sns.lmplot('loan_amount_000s', 'applicant_income_000s', data=subset_df, fit_reg=False)\n",
    "plt.show()"
   ]
  },
  {
   "cell_type": "code",
   "execution_count": null,
   "metadata": {
    "scrolled": true
   },
   "outputs": [],
   "source": [
    "sns.boxplot([subset_df['loan_amount_000s']])"
   ]
  },
  {
   "cell_type": "code",
   "execution_count": null,
   "metadata": {},
   "outputs": [],
   "source": [
    "sns.boxplot([subset_df['applicant_income_000s']])"
   ]
  }
 ],
 "metadata": {
  "kernelspec": {
   "display_name": "Python 3",
   "language": "python",
   "name": "python3"
  },
  "language_info": {
   "codemirror_mode": {
    "name": "ipython",
    "version": 3
   },
   "file_extension": ".py",
   "mimetype": "text/x-python",
   "name": "python",
   "nbconvert_exporter": "python",
   "pygments_lexer": "ipython3",
   "version": "3.7.3"
  }
 },
 "nbformat": 4,
 "nbformat_minor": 2
}
