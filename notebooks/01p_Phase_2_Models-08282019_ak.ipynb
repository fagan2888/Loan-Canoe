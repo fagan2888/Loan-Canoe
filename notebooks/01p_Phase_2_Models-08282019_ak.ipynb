{
 "cells": [
  {
   "cell_type": "markdown",
   "metadata": {},
   "source": [
    "**This script takes the best models and features from Phase 1 of the model selection process and undertakes a deeper dive in reviewing/selecting the optimal models.  It also adapts wrangling steps to a Pipeline and embeds that pipeline in the fit_and_evaluate function from Dr. Bengfort's WheatClassification lab.**\n",
    "\n",
    "To-Do:\n",
    "- Use balanced sample of 50K observations DONE\n",
    "- Align features across scripts DONE for outcome variable - PENDING for features (uniformly scale, reformat, normalize as we consolidate code---regularization; BZ)\n",
    "- Substitute dummies for label encoding, create a pipeline DONE except for two where I need guarateed \"1\" values\n",
    "- Add CV with 12 folds and randomized splits DONE\n",
    "- Review validation curve (PENDING - BZ)\n",
    "- Precision and Recall - DONE\n",
    "- Robustness checks for county_type versus MSA binary, state features PENDING - Will do on 8/28 BZ\n",
    "- Grid search PENDING - Will do on 8/28\n",
    "- Analyses on all years PENDING - Dependency on wrangling\n",
    "- Test for collinearity (heat map)\n",
    "- Updated visuals and single year model validation PENDING\n",
    "-----\n",
    "Week of 9/3:\n",
    "- Holdout sets\n",
    "- Review learning curve\n",
    "- Balanced and unbalanced datasets; random-stratifed+random-stratified-balanced\n",
    "- Sync with Django"
   ]
  },
  {
   "cell_type": "code",
   "execution_count": 1,
   "metadata": {},
   "outputs": [],
   "source": [
    "%matplotlib inline \n",
    "\n",
    "import os\n",
    "import json \n",
    "import time\n",
    "import pickle\n",
    "import pandas as pd \n",
    "import seaborn as sns\n",
    "\n",
    "from sklearn.datasets.base import Bunch\n",
    "from sklearn.preprocessing import StandardScaler, OneHotEncoder, LabelEncoder\n",
    "from sklearn.base import BaseEstimator, TransformerMixin, clone\n",
    "from sklearn.compose import ColumnTransformer, make_column_transformer\n",
    "from sklearn.exceptions import NotFittedError\n",
    "from sklearn import metrics\n",
    "\n",
    "from sklearn.model_selection import StratifiedKFold #ensure allows for randomization\n",
    "from sklearn.model_selection import train_test_split as tts #drop this if using KFold\n",
    "from sklearn import preprocessing\n",
    "from sklearn.model_selection import validation_curve\n",
    "\n",
    "from sklearn.pipeline import Pipeline\n",
    "from sklearn.preprocessing import OneHotEncoder\n",
    "from sklearn.model_selection import cross_val_score\n",
    "\n",
    "from sklearn.model_selection import train_test_split, GridSearchCV\n",
    "from sklearn.svm import LinearSVC, NuSVC, SVC\n",
    "from sklearn.naive_bayes import GaussianNB, BernoulliNB\n",
    "from sklearn import tree\n",
    "from sklearn.discriminant_analysis import LinearDiscriminantAnalysis\n",
    "from sklearn.linear_model import LogisticRegression, SGDClassifier\n",
    "from sklearn.ensemble import BaggingClassifier, ExtraTreesClassifier, RandomForestClassifier\n",
    "from sklearn.ensemble import GradientBoostingClassifier\n",
    "from sklearn.linear_model import LogisticRegressionCV, LogisticRegression, SGDClassifier\n",
    "from sklearn import tree\n",
    "from sklearn.neighbors import KNeighborsClassifier\n",
    "\n",
    "from yellowbrick.classifier import ClassificationReport\n",
    "\n",
    "import warnings\n",
    "warnings.filterwarnings(\"ignore\")"
   ]
  },
  {
   "cell_type": "markdown",
   "metadata": {},
   "source": [
    "**Read in data, create the two binaries that I have to create outside the Pipeline**"
   ]
  },
  {
   "cell_type": "code",
   "execution_count": 2,
   "metadata": {},
   "outputs": [],
   "source": [
    "filepath = os.path.abspath(os.path.join( \"..\", \"fixtures\", \"hmda2017sample_balanced.csv\"))\n",
    "DATA = pd.read_csv(filepath, low_memory=False)\n",
    "\n",
    "DATA['locality_type'] = None\n",
    "cloc = DATA.columns.get_loc('locality_type')\n",
    "i = 0\n",
    "for x in DATA['msamd_name'].isna():\n",
    "    if x == True:\n",
    "        DATA.iat[i, cloc]= 0\n",
    "        \n",
    "    else: \n",
    "        DATA.iat[i, cloc]= 1\n",
    "        \n",
    "    i+=1\n",
    "        \n",
    "DATA['locality_type'] = DATA['locality_type'].astype('int64')\n",
    "\n",
    "DATA['action_taken'] = DATA.action_taken_name.apply(lambda x: 1 if x in ['Loan purchased by the institution', 'Loan originated'] else 0)\n",
    "\n",
    "DATA['applicant_income_000s'].fillna(DATA.hud_median_family_income.median(), inplace=True)\n",
    "\n",
    "remove = ['purchaser_type_name',\n",
    "        'preapproval_name',\n",
    "        'rate_spread', \n",
    "        'sequence_number', \n",
    "        'respondent_id',\n",
    "        'state_name',\n",
    "        'state_abbr',\n",
    "        'county_name',\n",
    "        'edit_status_name', \n",
    "        'denial_reason_name_3', \n",
    "        'denial_reason_name_2', \n",
    "        'denial_reason_name_1', \n",
    "        'co_applicant_race_name_5', \n",
    "        'co_applicant_race_name_4', \n",
    "        'co_applicant_race_name_3', \n",
    "        'co_applicant_race_name_2',\n",
    "        'census_tract_number',\n",
    "        'application_date_indicator', \n",
    "        'applicant_race_name_5', \n",
    "        'applicant_race_name_4', \n",
    "        'applicant_race_name_3', \n",
    "        'applicant_race_name_2', \n",
    "        'agency_name',\n",
    "        'action_taken_name', \n",
    "        'msamd_name']\n",
    "\n",
    "non_bool_numeric = ['tract_to_msamd_income', \n",
    "        'population', \n",
    "        'minority_population', \n",
    "        'number_of_owner_occupied_units', \n",
    "        'number_of_1_to_4_family_units', \n",
    "        'loan_amount_000s', \n",
    "        'hud_median_family_income', \n",
    "        'applicant_income_000s',\n",
    "        ]\n",
    "\n",
    "categorical = ['property_type_name', \n",
    "        'owner_occupancy_name', \n",
    "        'loan_type_name', \n",
    "        'loan_purpose_name',\n",
    "        'lien_status_name', \n",
    "        'hoepa_status_name', \n",
    "        'co_applicant_sex_name',\n",
    "        'co_applicant_race_name_1', \n",
    "        'co_applicant_ethnicity_name', \n",
    "        'as_of_year',\n",
    "        'applicant_sex_name', \n",
    "        'applicant_race_name_1',\n",
    "        'applicant_ethnicity_name', \n",
    "        'agency_abbr']\n",
    "\n",
    "DATA = DATA.drop(DATA.columns[0], axis=1)\n",
    "DATA = DATA.drop(remove, axis=1)\n",
    "X = DATA[[col for col in DATA.columns if col != 'action_taken']]\n",
    "y = DATA['action_taken']\n",
    "\n",
    "filepath = os.path.abspath(os.path.join( \"..\", \"fixtures\", \"hmda2017sample_balanced_formatted.csv\"))\n",
    "DATA.to_csv(filepath, index=False)"
   ]
  },
  {
   "cell_type": "code",
   "execution_count": 3,
   "metadata": {},
   "outputs": [
    {
     "name": "stdout",
     "output_type": "stream",
     "text": [
      "(50000, 24)\n",
      "(50000, 23)\n"
     ]
    },
    {
     "data": {
      "text/html": [
       "<div>\n",
       "<style scoped>\n",
       "    .dataframe tbody tr th:only-of-type {\n",
       "        vertical-align: middle;\n",
       "    }\n",
       "\n",
       "    .dataframe tbody tr th {\n",
       "        vertical-align: top;\n",
       "    }\n",
       "\n",
       "    .dataframe thead th {\n",
       "        text-align: right;\n",
       "    }\n",
       "</style>\n",
       "<table border=\"1\" class=\"dataframe\">\n",
       "  <thead>\n",
       "    <tr style=\"text-align: right;\">\n",
       "      <th></th>\n",
       "      <th>tract_to_msamd_income</th>\n",
       "      <th>population</th>\n",
       "      <th>minority_population</th>\n",
       "      <th>number_of_owner_occupied_units</th>\n",
       "      <th>number_of_1_to_4_family_units</th>\n",
       "      <th>loan_amount_000s</th>\n",
       "      <th>hud_median_family_income</th>\n",
       "      <th>applicant_income_000s</th>\n",
       "      <th>property_type_name</th>\n",
       "      <th>owner_occupancy_name</th>\n",
       "      <th>...</th>\n",
       "      <th>co_applicant_sex_name</th>\n",
       "      <th>co_applicant_race_name_1</th>\n",
       "      <th>co_applicant_ethnicity_name</th>\n",
       "      <th>as_of_year</th>\n",
       "      <th>applicant_sex_name</th>\n",
       "      <th>applicant_race_name_1</th>\n",
       "      <th>applicant_ethnicity_name</th>\n",
       "      <th>agency_abbr</th>\n",
       "      <th>locality_type</th>\n",
       "      <th>action_taken</th>\n",
       "    </tr>\n",
       "  </thead>\n",
       "  <tbody>\n",
       "    <tr>\n",
       "      <th>count</th>\n",
       "      <td>50000.000000</td>\n",
       "      <td>50000.000000</td>\n",
       "      <td>50000.000000</td>\n",
       "      <td>50000.00000</td>\n",
       "      <td>50000.000000</td>\n",
       "      <td>50000.000000</td>\n",
       "      <td>50000.000000</td>\n",
       "      <td>50000.000000</td>\n",
       "      <td>50000</td>\n",
       "      <td>50000</td>\n",
       "      <td>...</td>\n",
       "      <td>50000</td>\n",
       "      <td>50000</td>\n",
       "      <td>50000</td>\n",
       "      <td>50000.0</td>\n",
       "      <td>50000</td>\n",
       "      <td>50000</td>\n",
       "      <td>50000</td>\n",
       "      <td>50000</td>\n",
       "      <td>50000.000000</td>\n",
       "      <td>50000.000000</td>\n",
       "    </tr>\n",
       "    <tr>\n",
       "      <th>unique</th>\n",
       "      <td>NaN</td>\n",
       "      <td>NaN</td>\n",
       "      <td>NaN</td>\n",
       "      <td>NaN</td>\n",
       "      <td>NaN</td>\n",
       "      <td>NaN</td>\n",
       "      <td>NaN</td>\n",
       "      <td>NaN</td>\n",
       "      <td>3</td>\n",
       "      <td>3</td>\n",
       "      <td>...</td>\n",
       "      <td>5</td>\n",
       "      <td>8</td>\n",
       "      <td>5</td>\n",
       "      <td>NaN</td>\n",
       "      <td>4</td>\n",
       "      <td>7</td>\n",
       "      <td>4</td>\n",
       "      <td>6</td>\n",
       "      <td>NaN</td>\n",
       "      <td>NaN</td>\n",
       "    </tr>\n",
       "    <tr>\n",
       "      <th>top</th>\n",
       "      <td>NaN</td>\n",
       "      <td>NaN</td>\n",
       "      <td>NaN</td>\n",
       "      <td>NaN</td>\n",
       "      <td>NaN</td>\n",
       "      <td>NaN</td>\n",
       "      <td>NaN</td>\n",
       "      <td>NaN</td>\n",
       "      <td>One-to-four family dwelling (other than manufa...</td>\n",
       "      <td>Owner-occupied as a principal dwelling</td>\n",
       "      <td>...</td>\n",
       "      <td>No co-applicant</td>\n",
       "      <td>No co-applicant</td>\n",
       "      <td>No co-applicant</td>\n",
       "      <td>NaN</td>\n",
       "      <td>Male</td>\n",
       "      <td>White</td>\n",
       "      <td>Not Hispanic or Latino</td>\n",
       "      <td>HUD</td>\n",
       "      <td>NaN</td>\n",
       "      <td>NaN</td>\n",
       "    </tr>\n",
       "    <tr>\n",
       "      <th>freq</th>\n",
       "      <td>NaN</td>\n",
       "      <td>NaN</td>\n",
       "      <td>NaN</td>\n",
       "      <td>NaN</td>\n",
       "      <td>NaN</td>\n",
       "      <td>NaN</td>\n",
       "      <td>NaN</td>\n",
       "      <td>NaN</td>\n",
       "      <td>47112</td>\n",
       "      <td>45053</td>\n",
       "      <td>...</td>\n",
       "      <td>27495</td>\n",
       "      <td>27495</td>\n",
       "      <td>27495</td>\n",
       "      <td>NaN</td>\n",
       "      <td>28255</td>\n",
       "      <td>32128</td>\n",
       "      <td>34673</td>\n",
       "      <td>24817</td>\n",
       "      <td>NaN</td>\n",
       "      <td>NaN</td>\n",
       "    </tr>\n",
       "    <tr>\n",
       "      <th>mean</th>\n",
       "      <td>110.760058</td>\n",
       "      <td>5633.718300</td>\n",
       "      <td>33.533193</td>\n",
       "      <td>1434.35328</td>\n",
       "      <td>1977.296320</td>\n",
       "      <td>228.458040</td>\n",
       "      <td>70502.446000</td>\n",
       "      <td>7906.332320</td>\n",
       "      <td>NaN</td>\n",
       "      <td>NaN</td>\n",
       "      <td>...</td>\n",
       "      <td>NaN</td>\n",
       "      <td>NaN</td>\n",
       "      <td>NaN</td>\n",
       "      <td>2017.0</td>\n",
       "      <td>NaN</td>\n",
       "      <td>NaN</td>\n",
       "      <td>NaN</td>\n",
       "      <td>NaN</td>\n",
       "      <td>0.883040</td>\n",
       "      <td>0.500000</td>\n",
       "    </tr>\n",
       "    <tr>\n",
       "      <th>std</th>\n",
       "      <td>40.470068</td>\n",
       "      <td>3012.190961</td>\n",
       "      <td>27.023663</td>\n",
       "      <td>833.92800</td>\n",
       "      <td>1033.910772</td>\n",
       "      <td>591.345455</td>\n",
       "      <td>15045.781898</td>\n",
       "      <td>21643.441935</td>\n",
       "      <td>NaN</td>\n",
       "      <td>NaN</td>\n",
       "      <td>...</td>\n",
       "      <td>NaN</td>\n",
       "      <td>NaN</td>\n",
       "      <td>NaN</td>\n",
       "      <td>0.0</td>\n",
       "      <td>NaN</td>\n",
       "      <td>NaN</td>\n",
       "      <td>NaN</td>\n",
       "      <td>NaN</td>\n",
       "      <td>0.321376</td>\n",
       "      <td>0.500005</td>\n",
       "    </tr>\n",
       "    <tr>\n",
       "      <th>min</th>\n",
       "      <td>0.000000</td>\n",
       "      <td>87.000000</td>\n",
       "      <td>0.000000</td>\n",
       "      <td>0.00000</td>\n",
       "      <td>0.000000</td>\n",
       "      <td>1.000000</td>\n",
       "      <td>15800.000000</td>\n",
       "      <td>1.000000</td>\n",
       "      <td>NaN</td>\n",
       "      <td>NaN</td>\n",
       "      <td>...</td>\n",
       "      <td>NaN</td>\n",
       "      <td>NaN</td>\n",
       "      <td>NaN</td>\n",
       "      <td>2017.0</td>\n",
       "      <td>NaN</td>\n",
       "      <td>NaN</td>\n",
       "      <td>NaN</td>\n",
       "      <td>NaN</td>\n",
       "      <td>0.000000</td>\n",
       "      <td>0.000000</td>\n",
       "    </tr>\n",
       "    <tr>\n",
       "      <th>25%</th>\n",
       "      <td>84.839996</td>\n",
       "      <td>3826.000000</td>\n",
       "      <td>11.530000</td>\n",
       "      <td>909.00000</td>\n",
       "      <td>1332.000000</td>\n",
       "      <td>97.000000</td>\n",
       "      <td>61100.000000</td>\n",
       "      <td>50.000000</td>\n",
       "      <td>NaN</td>\n",
       "      <td>NaN</td>\n",
       "      <td>...</td>\n",
       "      <td>NaN</td>\n",
       "      <td>NaN</td>\n",
       "      <td>NaN</td>\n",
       "      <td>2017.0</td>\n",
       "      <td>NaN</td>\n",
       "      <td>NaN</td>\n",
       "      <td>NaN</td>\n",
       "      <td>NaN</td>\n",
       "      <td>1.000000</td>\n",
       "      <td>0.000000</td>\n",
       "    </tr>\n",
       "    <tr>\n",
       "      <th>50%</th>\n",
       "      <td>105.470001</td>\n",
       "      <td>5120.000000</td>\n",
       "      <td>25.160000</td>\n",
       "      <td>1301.00000</td>\n",
       "      <td>1808.000000</td>\n",
       "      <td>172.000000</td>\n",
       "      <td>67900.000000</td>\n",
       "      <td>82.000000</td>\n",
       "      <td>NaN</td>\n",
       "      <td>NaN</td>\n",
       "      <td>...</td>\n",
       "      <td>NaN</td>\n",
       "      <td>NaN</td>\n",
       "      <td>NaN</td>\n",
       "      <td>2017.0</td>\n",
       "      <td>NaN</td>\n",
       "      <td>NaN</td>\n",
       "      <td>NaN</td>\n",
       "      <td>NaN</td>\n",
       "      <td>1.000000</td>\n",
       "      <td>0.500000</td>\n",
       "    </tr>\n",
       "    <tr>\n",
       "      <th>75%</th>\n",
       "      <td>130.552502</td>\n",
       "      <td>6726.000000</td>\n",
       "      <td>50.049999</td>\n",
       "      <td>1782.00000</td>\n",
       "      <td>2397.000000</td>\n",
       "      <td>279.000000</td>\n",
       "      <td>76300.000000</td>\n",
       "      <td>150.000000</td>\n",
       "      <td>NaN</td>\n",
       "      <td>NaN</td>\n",
       "      <td>...</td>\n",
       "      <td>NaN</td>\n",
       "      <td>NaN</td>\n",
       "      <td>NaN</td>\n",
       "      <td>2017.0</td>\n",
       "      <td>NaN</td>\n",
       "      <td>NaN</td>\n",
       "      <td>NaN</td>\n",
       "      <td>NaN</td>\n",
       "      <td>1.000000</td>\n",
       "      <td>1.000000</td>\n",
       "    </tr>\n",
       "    <tr>\n",
       "      <th>max</th>\n",
       "      <td>468.000000</td>\n",
       "      <td>53812.000000</td>\n",
       "      <td>100.000000</td>\n",
       "      <td>19529.00000</td>\n",
       "      <td>25391.000000</td>\n",
       "      <td>68000.000000</td>\n",
       "      <td>131500.000000</td>\n",
       "      <td>132000.000000</td>\n",
       "      <td>NaN</td>\n",
       "      <td>NaN</td>\n",
       "      <td>...</td>\n",
       "      <td>NaN</td>\n",
       "      <td>NaN</td>\n",
       "      <td>NaN</td>\n",
       "      <td>2017.0</td>\n",
       "      <td>NaN</td>\n",
       "      <td>NaN</td>\n",
       "      <td>NaN</td>\n",
       "      <td>NaN</td>\n",
       "      <td>1.000000</td>\n",
       "      <td>1.000000</td>\n",
       "    </tr>\n",
       "  </tbody>\n",
       "</table>\n",
       "<p>11 rows × 24 columns</p>\n",
       "</div>"
      ],
      "text/plain": [
       "        tract_to_msamd_income    population  minority_population  \\\n",
       "count            50000.000000  50000.000000         50000.000000   \n",
       "unique                    NaN           NaN                  NaN   \n",
       "top                       NaN           NaN                  NaN   \n",
       "freq                      NaN           NaN                  NaN   \n",
       "mean               110.760058   5633.718300            33.533193   \n",
       "std                 40.470068   3012.190961            27.023663   \n",
       "min                  0.000000     87.000000             0.000000   \n",
       "25%                 84.839996   3826.000000            11.530000   \n",
       "50%                105.470001   5120.000000            25.160000   \n",
       "75%                130.552502   6726.000000            50.049999   \n",
       "max                468.000000  53812.000000           100.000000   \n",
       "\n",
       "        number_of_owner_occupied_units  number_of_1_to_4_family_units  \\\n",
       "count                      50000.00000                   50000.000000   \n",
       "unique                             NaN                            NaN   \n",
       "top                                NaN                            NaN   \n",
       "freq                               NaN                            NaN   \n",
       "mean                        1434.35328                    1977.296320   \n",
       "std                          833.92800                    1033.910772   \n",
       "min                            0.00000                       0.000000   \n",
       "25%                          909.00000                    1332.000000   \n",
       "50%                         1301.00000                    1808.000000   \n",
       "75%                         1782.00000                    2397.000000   \n",
       "max                        19529.00000                   25391.000000   \n",
       "\n",
       "        loan_amount_000s  hud_median_family_income  applicant_income_000s  \\\n",
       "count       50000.000000              50000.000000           50000.000000   \n",
       "unique               NaN                       NaN                    NaN   \n",
       "top                  NaN                       NaN                    NaN   \n",
       "freq                 NaN                       NaN                    NaN   \n",
       "mean          228.458040              70502.446000            7906.332320   \n",
       "std           591.345455              15045.781898           21643.441935   \n",
       "min             1.000000              15800.000000               1.000000   \n",
       "25%            97.000000              61100.000000              50.000000   \n",
       "50%           172.000000              67900.000000              82.000000   \n",
       "75%           279.000000              76300.000000             150.000000   \n",
       "max         68000.000000             131500.000000          132000.000000   \n",
       "\n",
       "                                       property_type_name  \\\n",
       "count                                               50000   \n",
       "unique                                                  3   \n",
       "top     One-to-four family dwelling (other than manufa...   \n",
       "freq                                                47112   \n",
       "mean                                                  NaN   \n",
       "std                                                   NaN   \n",
       "min                                                   NaN   \n",
       "25%                                                   NaN   \n",
       "50%                                                   NaN   \n",
       "75%                                                   NaN   \n",
       "max                                                   NaN   \n",
       "\n",
       "                          owner_occupancy_name  ... co_applicant_sex_name  \\\n",
       "count                                    50000  ...                 50000   \n",
       "unique                                       3  ...                     5   \n",
       "top     Owner-occupied as a principal dwelling  ...       No co-applicant   \n",
       "freq                                     45053  ...                 27495   \n",
       "mean                                       NaN  ...                   NaN   \n",
       "std                                        NaN  ...                   NaN   \n",
       "min                                        NaN  ...                   NaN   \n",
       "25%                                        NaN  ...                   NaN   \n",
       "50%                                        NaN  ...                   NaN   \n",
       "75%                                        NaN  ...                   NaN   \n",
       "max                                        NaN  ...                   NaN   \n",
       "\n",
       "       co_applicant_race_name_1 co_applicant_ethnicity_name as_of_year  \\\n",
       "count                     50000                       50000    50000.0   \n",
       "unique                        8                           5        NaN   \n",
       "top             No co-applicant             No co-applicant        NaN   \n",
       "freq                      27495                       27495        NaN   \n",
       "mean                        NaN                         NaN     2017.0   \n",
       "std                         NaN                         NaN        0.0   \n",
       "min                         NaN                         NaN     2017.0   \n",
       "25%                         NaN                         NaN     2017.0   \n",
       "50%                         NaN                         NaN     2017.0   \n",
       "75%                         NaN                         NaN     2017.0   \n",
       "max                         NaN                         NaN     2017.0   \n",
       "\n",
       "       applicant_sex_name applicant_race_name_1 applicant_ethnicity_name  \\\n",
       "count               50000                 50000                    50000   \n",
       "unique                  4                     7                        4   \n",
       "top                  Male                 White   Not Hispanic or Latino   \n",
       "freq                28255                 32128                    34673   \n",
       "mean                  NaN                   NaN                      NaN   \n",
       "std                   NaN                   NaN                      NaN   \n",
       "min                   NaN                   NaN                      NaN   \n",
       "25%                   NaN                   NaN                      NaN   \n",
       "50%                   NaN                   NaN                      NaN   \n",
       "75%                   NaN                   NaN                      NaN   \n",
       "max                   NaN                   NaN                      NaN   \n",
       "\n",
       "        agency_abbr locality_type  action_taken  \n",
       "count         50000  50000.000000  50000.000000  \n",
       "unique            6           NaN           NaN  \n",
       "top             HUD           NaN           NaN  \n",
       "freq          24817           NaN           NaN  \n",
       "mean            NaN      0.883040      0.500000  \n",
       "std             NaN      0.321376      0.500005  \n",
       "min             NaN      0.000000      0.000000  \n",
       "25%             NaN      1.000000      0.000000  \n",
       "50%             NaN      1.000000      0.500000  \n",
       "75%             NaN      1.000000      1.000000  \n",
       "max             NaN      1.000000      1.000000  \n",
       "\n",
       "[11 rows x 24 columns]"
      ]
     },
     "execution_count": 3,
     "metadata": {},
     "output_type": "execute_result"
    }
   ],
   "source": [
    "print(DATA.shape)\n",
    "print(X.shape)\n",
    "DATA.describe(include='all')"
   ]
  },
  {
   "cell_type": "code",
   "execution_count": 4,
   "metadata": {},
   "outputs": [
    {
     "data": {
      "text/plain": [
       "<matplotlib.axes._subplots.AxesSubplot at 0x21e75af6320>"
      ]
     },
     "execution_count": 4,
     "metadata": {},
     "output_type": "execute_result"
    },
    {
     "data": {
      "image/png": "[encoded data removed]",
      "text/plain": [
       "<Figure size 432x288 with 1 Axes>"
      ]
     },
     "metadata": {
      "needs_background": "light"
     },
     "output_type": "display_data"
    }
   ],
   "source": [
    "sns.countplot(x='action_taken', hue='property_type_name', data=DATA,)"
   ]
  },
  {
   "cell_type": "code",
   "execution_count": 5,
   "metadata": {},
   "outputs": [
    {
     "data": {
      "text/plain": [
       "<matplotlib.axes._subplots.AxesSubplot at 0x21e7686bc50>"
      ]
     },
     "execution_count": 5,
     "metadata": {},
     "output_type": "execute_result"
    },
    {
     "data": {
      "image/png": "[encoded data removed]",
      "text/plain": [
       "<Figure size 432x288 with 1 Axes>"
      ]
     },
     "metadata": {
      "needs_background": "light"
     },
     "output_type": "display_data"
    }
   ],
   "source": [
    "sns.countplot(x='action_taken', hue='owner_occupancy_name', data=DATA,)"
   ]
  },
  {
   "cell_type": "code",
   "execution_count": 6,
   "metadata": {},
   "outputs": [],
   "source": [
    "meta = {\n",
    "    'target_names': [str(yi) for yi in y.unique()],\n",
    "    'feature_names': list(X.columns),\n",
    "    'categorical_features': {\n",
    "        column: list(X[column].unique())\n",
    "        for column in X.columns\n",
    "        if X[column].dtype == 'object'\n",
    "    },\n",
    "}\n",
    "\n",
    "with open('data/meta.json', 'w') as f:\n",
    "     json.dump(meta, f, indent=2)"
   ]
  },
  {
   "cell_type": "markdown",
   "metadata": {},
   "source": [
    "From Dr. Bengfort's Census Notebook:\n",
    "\n",
    "This code creates a `meta.json` file by inspecting the data frame that we have constructued. The `target_names` column, is just the two unique values in the `data.income` series; by using the `pd.Series.unique` method - we're guarenteed to spot data errors if there are more or less than two values. The `feature_names` is simply the names of all the columns. \n",
    "\n",
    "Now that we have everything we need stored on disk, we can create a `load_data` function, which will allow us to load the training and test datasets appropriately from disk and store them in a `Bunch`: "
   ]
  },
  {
   "cell_type": "code",
   "execution_count": 7,
   "metadata": {},
   "outputs": [
    {
     "name": "stdout",
     "output_type": "stream",
     "text": [
      "(50000, 23)\n"
     ]
    }
   ],
   "source": [
    "def load_data(root=os.getcwd()):\n",
    "    # Construct the `Bunch` for the HMDA dataset\n",
    "    filenames     = {\n",
    "        'meta': os.path.join(root, 'data','meta.json'),\n",
    "        'rdme': os.path.join(\"..\",'readme.md'),\n",
    "        'data': os.path.abspath(os.path.join( \"..\", \"fixtures\", \"hmda2017sample_balanced_formatted.csv\")),\n",
    "    }\n",
    "\n",
    "    # Load the meta data from the meta json\n",
    "    with open(filenames['meta'], 'r') as f:\n",
    "        meta = json.load(f)\n",
    "        target_names  = meta['target_names']\n",
    "        feature_names = meta['feature_names']\n",
    "\n",
    "    # Load the description from the README. \n",
    "    with open(filenames['rdme'], 'r') as f:\n",
    "        DESCR = f.read()\n",
    "\n",
    "    # Load the dataset from the text file.\n",
    "    dataset = pd.read_csv(filenames['data'], low_memory=False)\n",
    "\n",
    "    # Extract the target from the data\n",
    "    data = dataset[[col for col in DATA.columns if col != 'action_taken']]\n",
    "    target = dataset['action_taken']\n",
    "\n",
    "    # Create the bunch object\n",
    "    return Bunch(\n",
    "        data=data,\n",
    "        target=target,\n",
    "        filenames=filenames,\n",
    "        target_names=target_names,\n",
    "        feature_names=feature_names,\n",
    "        categorical_features = meta['categorical_features'], \n",
    "        DESCR=DESCR\n",
    "    )\n",
    "\n",
    "# Save the dataset as a variable we can use.\n",
    "dataset = load_data()\n",
    "\n",
    "print(dataset.data.shape)"
   ]
  },
  {
   "cell_type": "markdown",
   "metadata": {},
   "source": [
    "From Dr. Bengfort's Census Notebook:\n",
    "\n",
    "Now that we've finally acheived our feature extraction, we can continue on to the model build phase. To create our classifier, we're going to create a [`Pipeline`](http://scikit-learn.org/stable/modules/generated/sklearn.pipeline.Pipeline.html) that uses our feature transformers and ends in an estimator that can do classification. We can then write the entire pipeline object to disk with the `pickle`, allowing us to load it up and use it to make predictions in the future. \n",
    "\n",
    "A pipeline is a step-by-step set of transformers that takes input data and transforms it, until finally passing it to an estimator at the end. Pipelines can be constructed using a named declarative syntax so that they're easy to modify and develop. Our pipeline is as follows:"
   ]
  },
  {
   "cell_type": "code",
   "execution_count": 8,
   "metadata": {},
   "outputs": [],
   "source": [
    "class IdentityTransformer(BaseEstimator, TransformerMixin):\n",
    "    \n",
    "    def fit(self, X, y=None):\n",
    "        return self\n",
    "\n",
    "    def transform(self, X, y=None):\n",
    "        return X"
   ]
  },
  {
   "cell_type": "markdown",
   "metadata": {},
   "source": [
    "**Create Pipeline**"
   ]
  },
  {
   "cell_type": "code",
   "execution_count": 9,
   "metadata": {},
   "outputs": [],
   "source": [
    "# We create the preprocessing pipelines for both numeric and categorical data.\n",
    "numeric_transformer = Pipeline(steps=[\n",
    "    ('scaler', StandardScaler())])\n",
    "\n",
    "categorical_transformer = Pipeline(steps=[\n",
    "    ('onehot', OneHotEncoder(handle_unknown='ignore'))])\n",
    "\n",
    "preprocessor = ColumnTransformer(\n",
    "    transformers=[\n",
    "        ('num', numeric_transformer, non_bool_numeric),\n",
    "        ('cat', categorical_transformer, categorical)])"
   ]
  },
  {
   "cell_type": "code",
   "execution_count": 34,
   "metadata": {},
   "outputs": [
    {
     "data": {
      "text/plain": [
       "(50000, 67)"
      ]
     },
     "execution_count": 34,
     "metadata": {},
     "output_type": "execute_result"
    }
   ],
   "source": [
    "preprocessor.fit_transform(dataset.data).shape"
   ]
  },
  {
   "cell_type": "markdown",
   "metadata": {},
   "source": [
    "**Test Pipeline**"
   ]
  },
  {
   "cell_type": "code",
   "execution_count": null,
   "metadata": {},
   "outputs": [],
   "source": [
    "X = dataset.data\n",
    "y = dataset.target"
   ]
  },
  {
   "cell_type": "code",
   "execution_count": 63,
   "metadata": {},
   "outputs": [
    {
     "data": {
      "text/plain": [
       "(50000, 67)"
      ]
     },
     "execution_count": 63,
     "metadata": {},
     "output_type": "execute_result"
    }
   ],
   "source": [
    "###NOTE: this is draft for TN\n",
    "###Source: https://scikit-learn.org/stable/modules/generated/sklearn.preprocessing.OneHotEncoder.html\n",
    "categorical_indexes = [\n",
    "    list(dataset.data.columns).index(key) for key in dataset.categorical_features.keys()\n",
    "]\n",
    "\n",
    "tn_chart_preprocessor = ColumnTransformer(\n",
    "    transformers=[('cat', categorical_transformer, categorical)])\n",
    "\n",
    "tn_chart_pipeline = Pipeline(steps=[('preprocessor', clone(preprocessor))])\n",
    "        \n",
    "chart_enc = tn_chart_pipeline\n",
    "\n",
    "X_CHARTS = chart_enc.fit_transform(dataset.data)\n",
    "X_CHARTS.shape\n"
   ]
  },
  {
   "cell_type": "code",
   "execution_count": 65,
   "metadata": {},
   "outputs": [
    {
     "data": {
      "image/png": "[encoded data removed]",
      "text/plain": [
       "<Figure size 1080x720 with 2 Axes>"
      ]
     },
     "metadata": {
      "needs_background": "light"
     },
     "output_type": "display_data"
    },
    {
     "data": {
      "image/png": "[encoded data removed]",
      "text/plain": [
       "<Figure size 1080x720 with 1 Axes>"
      ]
     },
     "metadata": {
      "needs_background": "light"
     },
     "output_type": "display_data"
    }
   ],
   "source": [
    "from yellowbrick.features import Rank2D\n",
    "\n",
    "# Instantiate the visualizer with the Pearson ranking algorithm\n",
    "visualizer = Rank2D(algorithm='pearson', size=(1080, 720))\n",
    "\n",
    "visualizer.fit(X_CHARTS, y)\n",
    "visualizer.transform(X_CHARTS)\n",
    "visualizer.poof()\n",
    "\n",
    "from yellowbrick.features import FeatureImportances\n",
    "\n",
    "model = RandomForestClassifier(n_estimators=10)\n",
    "viz = FeatureImportances(model, size=(1080, 720))\n",
    "\n",
    "viz.fit(X_CHARTS, y)\n",
    "# Note: the FeatureImportances visualizer is a model visualizer,\n",
    "# not a feature visualizer, so it doesn't have a transform method!\n",
    "viz.poof()"
   ]
  },
  {
   "cell_type": "code",
   "execution_count": 15,
   "metadata": {},
   "outputs": [],
   "source": [
    "#Create a list object to eventually make the below cells iteratable\n",
    "models = [\n",
    "    GaussianNB(), \n",
    "    BernoulliNB(),\n",
    "    tree.DecisionTreeClassifier(),\n",
    "    LinearDiscriminantAnalysis(),\n",
    "    LogisticRegression(solver='lbfgs', max_iter=6000), \n",
    "    BaggingClassifier(), \n",
    "    ExtraTreesClassifier(n_estimators=100), \n",
    "    RandomForestClassifier(n_estimators=100),\n",
    "    LinearSVC(max_iter=6000),\n",
    "    SGDClassifier()\n",
    "]"
   ]
  },
  {
   "cell_type": "code",
   "execution_count": 38,
   "metadata": {},
   "outputs": [],
   "source": [
    "def fit_and_evaluate(X, y, model, label, **kwargs):\n",
    "\n",
    "    start  = time.time() # Start the clock! \n",
    "    #scores = {'precision':[], 'recall':[], 'accuracy':[], 'f1':[]}\n",
    "\n",
    "    scores = {'precision':[], 'precision_1':[], 'precision_0':[], 'recall':[], 'recall_1':[], 'recall_0':[], 'accuracy':[], 'f1':[],  'f1_1':[],  'f1_0':[]}\n",
    "    \n",
    "    skf = StratifiedKFold(n_splits = 12, shuffle=True, random_state=1)\n",
    "    \n",
    "    for train, test in skf.split(X, y):\n",
    "        X_train, X_test = X.iloc[train], X.iloc[test]\n",
    "        y_train, y_test = y[train], y[test]\n",
    "        \n",
    "        estimator = Pipeline(steps=[('preprocessor', clone(preprocessor)),\n",
    "                      ('model', model(**kwargs))])\n",
    "        \n",
    "        estimator.fit(X_train, y_train)\n",
    "        \n",
    "        expected  = y_test\n",
    "        predicted = estimator.predict(X_test)\n",
    "        cr = classification_report(y_test, predicted, output_dict=True)\n",
    "        \n",
    "        # Append our scores to the tracker\n",
    "        scores['precision'].append(metrics.precision_score(expected, predicted, average=\"weighted\"))\n",
    "        scores['precision_1'].append(cr['1']['precision'])\n",
    "        scores['precision_0'].append(cr['0']['precision'])\n",
    "        scores['recall'].append(metrics.recall_score(expected, predicted, average=\"weighted\"))\n",
    "        scores['recall_1'].append(cr['1']['recall'])\n",
    "        scores['recall_0'].append(cr['0']['recall'])\n",
    "        scores['accuracy'].append(metrics.accuracy_score(expected, predicted))\n",
    "        scores['f1'].append(metrics.f1_score(expected, predicted, average=\"weighted\"))\n",
    "        scores['f1_1'].append(cr['1']['f1-score'])\n",
    "        scores['f1_0'].append(cr['0']['f1-score'])\n",
    "        \n",
    "    # Report\n",
    "    print(\"Build and Validation of {} took {:0.3f} seconds\".format(label, time.time()-start))\n",
    "    print(\"Validation scores are as follows:\\n\")\n",
    "    print(pd.DataFrame(scores).mean())\n",
    "    \n",
    "    # Write official estimator to disk\n",
    "    estimator = Pipeline(steps=[('preprocessor', clone(preprocessor)),\n",
    "                      ('model', model(**kwargs))])\n",
    "    estimator.fit(X, y)\n",
    "    \n",
    "    outpath = label.lower().replace(\" \", \"-\") + \".pickle\"\n",
    "    with open(outpath, 'wb') as f:\n",
    "        pickle.dump(estimator, f)\n",
    "\n",
    "    print(\"\\nFitted model written to:\\n{}\".format(os.path.abspath(outpath)))"
   ]
  },
  {
   "cell_type": "code",
   "execution_count": 39,
   "metadata": {},
   "outputs": [
    {
     "name": "stdout",
     "output_type": "stream",
     "text": [
      "Build and Validation of HMDA Logistic Regression took 16.510 seconds\n",
      "Validation scores are as follows:\n",
      "\n",
      "precision      0.720686\n",
      "precision_1    0.742438\n",
      "precision_0    0.698935\n",
      "recall         0.718520\n",
      "recall_1       0.669280\n",
      "recall_0       0.767759\n",
      "accuracy       0.718520\n",
      "f1             0.717829\n",
      "f1_1           0.703941\n",
      "f1_0           0.731717\n",
      "dtype: float64\n",
      "\n",
      "Fitted model written to:\n",
      "C:\\Users\\akx00\\Desktop\\gtfiles\\capstone\\foo\\hmda-logistic-regression.pickle\n"
     ]
    }
   ],
   "source": [
    "fit_and_evaluate(X, y, LogisticRegression, \"HMDA Logistic Regression\", max_iter=6000)"
   ]
  },
  {
   "cell_type": "code",
   "execution_count": 18,
   "metadata": {},
   "outputs": [],
   "source": [
    "###NOTE: this is the underlying code I used tonight to edit the fit_and_evaluate function\n",
    "\n",
    "from sklearn.metrics import classification_report\n",
    "X_train, X_test, y_train, y_test = train_test_split(X, y, test_size=0.2, random_state=1)\n",
    "model = Pipeline(steps=[('preprocessor', clone(preprocessor)),\n",
    "                      ('model', LogisticRegression(max_iter=6000))])\n",
    "model.fit(X_train, y_train)\n",
    "y_pred = model.predict(X_test)\n",
    "print(classification_report(y_test, y_pred, output_dict=True))\n",
    "cr = classification_report(y_test, y_pred, output_dict=True)\n",
    "print(\"Classification report for classifier:\\n%s\\n\"\n",
    "      % (metrics.classification_report(y_test, y_pred)))"
   ]
  },
  {
   "cell_type": "code",
   "execution_count": 28,
   "metadata": {},
   "outputs": [
    {
     "name": "stdout",
     "output_type": "stream",
     "text": [
      "Build and Validation of HMDA Random Forest Classifier took 106.108 seconds\n",
      "Validation scores are as follows:\n",
      "\n",
      "precision      0.723169\n",
      "precision_1    0.744237\n",
      "precision_0    0.702101\n",
      "recall         0.721139\n",
      "recall_1       0.674000\n",
      "recall_0       0.768279\n",
      "accuracy       0.721139\n",
      "f1             0.720506\n",
      "f1_1           0.707340\n",
      "f1_0           0.733673\n",
      "dtype: float64\n",
      "\n",
      "Fitted model written to:\n",
      "C:\\Users\\akx00\\Desktop\\gtfiles\\capstone\\foo\\hmda-random-forest-classifier.pickle\n"
     ]
    }
   ],
   "source": [
    "fit_and_evaluate(X, y, RandomForestClassifier, \"HMDA Random Forest Classifier\", n_estimators=100)"
   ]
  },
  {
   "cell_type": "code",
   "execution_count": 29,
   "metadata": {},
   "outputs": [
    {
     "name": "stdout",
     "output_type": "stream",
     "text": [
      "Build and Validation of HMDA Linear Discriminant Analysis took 10.902 seconds\n",
      "Validation scores are as follows:\n",
      "\n",
      "precision      0.720707\n",
      "precision_1    0.744410\n",
      "precision_0    0.697005\n",
      "recall         0.718140\n",
      "recall_1       0.664480\n",
      "recall_0       0.771799\n",
      "accuracy       0.718140\n",
      "f1             0.717319\n",
      "f1_1           0.702156\n",
      "f1_0           0.732483\n",
      "dtype: float64\n",
      "\n",
      "Fitted model written to:\n",
      "C:\\Users\\akx00\\Desktop\\gtfiles\\capstone\\foo\\hmda-linear-discriminant-analysis.pickle\n"
     ]
    }
   ],
   "source": [
    "fit_and_evaluate(X, y, LinearDiscriminantAnalysis, \"HMDA Linear Discriminant Analysis\")"
   ]
  },
  {
   "cell_type": "code",
   "execution_count": 30,
   "metadata": {},
   "outputs": [
    {
     "name": "stdout",
     "output_type": "stream",
     "text": [
      "Build and Validation of HMDA LinearSVC took 125.161 seconds\n",
      "Validation scores are as follows:\n",
      "\n",
      "precision      0.721181\n",
      "precision_1    0.742348\n",
      "precision_0    0.700013\n",
      "recall         0.719140\n",
      "recall_1       0.671320\n",
      "recall_0       0.766959\n",
      "accuracy       0.719140\n",
      "f1             0.718492\n",
      "f1_1           0.705035\n",
      "f1_0           0.731948\n",
      "dtype: float64\n",
      "\n",
      "Fitted model written to:\n",
      "C:\\Users\\akx00\\Desktop\\gtfiles\\capstone\\foo\\hmda-linearsvc.pickle\n"
     ]
    }
   ],
   "source": [
    "fit_and_evaluate(X, y, LinearSVC, \"HMDA LinearSVC\")"
   ]
  },
  {
   "cell_type": "code",
   "execution_count": 31,
   "metadata": {},
   "outputs": [
    {
     "name": "stdout",
     "output_type": "stream",
     "text": [
      "Build and Validation of HMDA BernoulliNB took 6.087 seconds\n",
      "Validation scores are as follows:\n",
      "\n",
      "precision      0.699214\n",
      "precision_1    0.777253\n",
      "precision_0    0.621176\n",
      "recall         0.668600\n",
      "recall_1       0.472641\n",
      "recall_0       0.864559\n",
      "accuracy       0.668600\n",
      "f1             0.655328\n",
      "f1_1           0.587743\n",
      "f1_0           0.722912\n",
      "dtype: float64\n",
      "\n",
      "Fitted model written to:\n",
      "C:\\Users\\akx00\\Desktop\\gtfiles\\capstone\\foo\\hmda-bernoullinb.pickle\n"
     ]
    }
   ],
   "source": [
    "fit_and_evaluate(X, y, BernoulliNB, \"HMDA BernoulliNB\")"
   ]
  },
  {
   "cell_type": "code",
   "execution_count": 32,
   "metadata": {},
   "outputs": [
    {
     "name": "stdout",
     "output_type": "stream",
     "text": [
      "Build and Validation of HMDA GaussianNB took 7.559 seconds\n",
      "Validation scores are as follows:\n",
      "\n",
      "precision      0.767301\n",
      "precision_1    0.967059\n",
      "precision_0    0.567544\n",
      "recall         0.618000\n",
      "recall_1       0.244361\n",
      "recall_0       0.991640\n",
      "accuracy       0.618000\n",
      "f1             0.555989\n",
      "f1_1           0.390067\n",
      "f1_0           0.721911\n",
      "dtype: float64\n",
      "\n",
      "Fitted model written to:\n",
      "C:\\Users\\akx00\\Desktop\\gtfiles\\capstone\\foo\\hmda-gaussiannb.pickle\n"
     ]
    }
   ],
   "source": [
    "fit_and_evaluate(X, y, GaussianNB, \"HMDA GaussianNB\")"
   ]
  },
  {
   "cell_type": "code",
   "execution_count": 33,
   "metadata": {},
   "outputs": [
    {
     "name": "stdout",
     "output_type": "stream",
     "text": [
      "Build and Validation of HMDA DecisionTreeClassifier took 16.520 seconds\n",
      "Validation scores are as follows:\n",
      "\n",
      "precision      0.647547\n",
      "precision_1    0.646008\n",
      "precision_0    0.649087\n",
      "recall         0.647501\n",
      "recall_1       0.652920\n",
      "recall_0       0.642082\n",
      "accuracy       0.647501\n",
      "f1             0.647472\n",
      "f1_1           0.649412\n",
      "f1_0           0.645531\n",
      "dtype: float64\n",
      "\n",
      "Fitted model written to:\n",
      "C:\\Users\\akx00\\Desktop\\gtfiles\\capstone\\foo\\hmda-decisiontreeclassifier.pickle\n"
     ]
    }
   ],
   "source": [
    "fit_and_evaluate(X, y, tree.DecisionTreeClassifier, \"HMDA DecisionTreeClassifier\")"
   ]
  },
  {
   "cell_type": "code",
   "execution_count": 35,
   "metadata": {},
   "outputs": [
    {
     "name": "stdout",
     "output_type": "stream",
     "text": [
      "Build and Validation of HMDA BaggingClassifier took 77.598 seconds\n",
      "Validation scores are as follows:\n",
      "\n",
      "precision      0.701842\n",
      "precision_1    0.733064\n",
      "precision_0    0.670620\n",
      "recall         0.697000\n",
      "recall_1       0.619680\n",
      "recall_0       0.774320\n",
      "accuracy       0.697000\n",
      "f1             0.695173\n",
      "f1_1           0.671605\n",
      "f1_0           0.718740\n",
      "dtype: float64\n",
      "\n",
      "Fitted model written to:\n",
      "C:\\Users\\akx00\\Desktop\\gtfiles\\capstone\\foo\\hmda-baggingclassifier.pickle\n"
     ]
    }
   ],
   "source": [
    "fit_and_evaluate(X, y, BaggingClassifier, \"HMDA BaggingClassifier\")     "
   ]
  },
  {
   "cell_type": "code",
   "execution_count": 36,
   "metadata": {},
   "outputs": [
    {
     "name": "stdout",
     "output_type": "stream",
     "text": [
      "Build and Validation of HMDA ExtraTreesClassifier took 114.045 seconds\n",
      "Validation scores are as follows:\n",
      "\n",
      "precision      0.707794\n",
      "precision_1    0.718157\n",
      "precision_0    0.697431\n",
      "recall         0.707219\n",
      "recall_1       0.682359\n",
      "recall_0       0.732079\n",
      "accuracy       0.707219\n",
      "f1             0.707018\n",
      "f1_1           0.699747\n",
      "f1_0           0.714290\n",
      "dtype: float64\n",
      "\n",
      "Fitted model written to:\n",
      "C:\\Users\\akx00\\Desktop\\gtfiles\\capstone\\foo\\hmda-extratreesclassifier.pickle\n"
     ]
    }
   ],
   "source": [
    "fit_and_evaluate(X, y, ExtraTreesClassifier, \"HMDA ExtraTreesClassifier\", n_estimators=100)"
   ]
  },
  {
   "cell_type": "code",
   "execution_count": 37,
   "metadata": {},
   "outputs": [
    {
     "name": "stdout",
     "output_type": "stream",
     "text": [
      "Build and Validation of HMDA SGDClassifier took 6.031 seconds\n",
      "Validation scores are as follows:\n",
      "\n",
      "precision      0.706074\n",
      "precision_1    0.734323\n",
      "precision_0    0.677826\n",
      "recall         0.675019\n",
      "recall_1       0.623497\n",
      "recall_0       0.726541\n",
      "accuracy       0.675019\n",
      "f1             0.661911\n",
      "f1_1           0.643871\n",
      "f1_0           0.679950\n",
      "dtype: float64\n",
      "\n",
      "Fitted model written to:\n",
      "C:\\Users\\akx00\\Desktop\\gtfiles\\capstone\\foo\\hmda-sgdclassifier.pickle\n"
     ]
    }
   ],
   "source": [
    "fit_and_evaluate(X, y, SGDClassifier, \"HMDA SGDClassifier\")"
   ]
  },
  {
   "cell_type": "markdown",
   "metadata": {},
   "source": [
    "The last step is to save our model to disk for reuse later, with the `pickle` module:"
   ]
  },
  {
   "cell_type": "code",
   "execution_count": null,
   "metadata": {},
   "outputs": [],
   "source": [
    "import pickle \n",
    "\n",
    "def dump_model(model, path='data', name='classifier.pickle'):\n",
    "    with open(os.path.join(path, name), 'wb') as f:\n",
    "        pickle.dump(model, f)\n",
    "        \n",
    "dump_model(census)"
   ]
  },
  {
   "cell_type": "markdown",
   "metadata": {},
   "source": [
    "You should also dump meta information about the date and time your model was built, who built the model, etc. But we'll skip that step here, since this post serves as a guide. \n",
    "\n",
    "## Model Operation \n",
    "\n",
    "Now it's time to explore how to use the model. To do this, we'll create a simple function that gathers input from the user on the command line, and returns a prediction with the classifier model. Moreover, this function will load the pickled model into memory to ensure the latest and greatest saved model is what's being used. "
   ]
  },
  {
   "cell_type": "code",
   "execution_count": null,
   "metadata": {},
   "outputs": [],
   "source": [
    "def load_model(path='data/classifier.pickle'):\n",
    "    with open(path, 'rb') as f:\n",
    "        return pickle.load(f) \n",
    "\n",
    "\n",
    "def predict(model, meta=dataset):\n",
    "    data = {} # Store the input from the user\n",
    "    \n",
    "    for column in meta['feature_names'][:-1]:\n",
    "        # Get the valid responses\n",
    "        valid = meta['categorical_features'].get(column)\n",
    "    \n",
    "        # Prompt the user for an answer until good \n",
    "        while True:\n",
    "            val = \" \" + input(\"enter {} >\".format(column))\n",
    "            if valid and val not in valid:\n",
    "                print(\"Not valid, choose one of {}\".format(valid))\n",
    "            else:\n",
    "                data[column] = val\n",
    "                break\n",
    "    \n",
    "    # Create prediction and label \n",
    "    yhat = model.predict(pd.DataFrame([data]))\n",
    "    return yencode.inverse_transform(yhat)\n",
    "            \n",
    "    \n",
    "# Execute the interface \n",
    "model = load_model()\n",
    "predict(model)"
   ]
  }
 ],
 "metadata": {
  "kernelspec": {
   "display_name": "Python 3",
   "language": "python",
   "name": "python3"
  },
  "language_info": {
   "codemirror_mode": {
    "name": "ipython",
    "version": 3
   },
   "file_extension": ".py",
   "mimetype": "text/x-python",
   "name": "python",
   "nbconvert_exporter": "python",
   "pygments_lexer": "ipython3",
   "version": "3.7.3"
  }
 },
 "nbformat": 4,
 "nbformat_minor": 1
}
